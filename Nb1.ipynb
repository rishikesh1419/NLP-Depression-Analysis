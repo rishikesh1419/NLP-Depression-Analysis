{
 "cells": [
  {
   "cell_type": "code",
   "execution_count": 1,
   "metadata": {},
   "outputs": [],
   "source": [
    "import pandas as pd\n",
    "import numpy as np"
   ]
  },
  {
   "cell_type": "code",
   "execution_count": 4,
   "metadata": {},
   "outputs": [
    {
     "data": {
      "text/html": [
       "<div>\n",
       "<style scoped>\n",
       "    .dataframe tbody tr th:only-of-type {\n",
       "        vertical-align: middle;\n",
       "    }\n",
       "\n",
       "    .dataframe tbody tr th {\n",
       "        vertical-align: top;\n",
       "    }\n",
       "\n",
       "    .dataframe thead th {\n",
       "        text-align: right;\n",
       "    }\n",
       "</style>\n",
       "<table border=\"1\" class=\"dataframe\">\n",
       "  <thead>\n",
       "    <tr style=\"text-align: right;\">\n",
       "      <th></th>\n",
       "      <th>id</th>\n",
       "      <th>content</th>\n",
       "      <th>date</th>\n",
       "    </tr>\n",
       "  </thead>\n",
       "  <tbody>\n",
       "    <tr>\n",
       "      <th>0</th>\n",
       "      <td>fyc2yd</td>\n",
       "      <td>NaN</td>\n",
       "      <td>2020-04-10 14:19:47</td>\n",
       "    </tr>\n",
       "    <tr>\n",
       "      <th>1</th>\n",
       "      <td>fyc2vf</td>\n",
       "      <td>NaN</td>\n",
       "      <td>2020-04-10 14:19:36</td>\n",
       "    </tr>\n",
       "    <tr>\n",
       "      <th>2</th>\n",
       "      <td>fmz6r7y</td>\n",
       "      <td>Teleportation.</td>\n",
       "      <td>2020-04-10 14:20:05</td>\n",
       "    </tr>\n",
       "    <tr>\n",
       "      <th>3</th>\n",
       "      <td>fyc2um</td>\n",
       "      <td>NaN</td>\n",
       "      <td>2020-04-10 14:19:33</td>\n",
       "    </tr>\n",
       "    <tr>\n",
       "      <th>4</th>\n",
       "      <td>fmz6qtc</td>\n",
       "      <td>Don't fear the reaper</td>\n",
       "      <td>2020-04-10 14:19:52</td>\n",
       "    </tr>\n",
       "    <tr>\n",
       "      <th>5</th>\n",
       "      <td>fyc2qi</td>\n",
       "      <td>NaN</td>\n",
       "      <td>2020-04-10 14:19:20</td>\n",
       "    </tr>\n",
       "    <tr>\n",
       "      <th>6</th>\n",
       "      <td>fyc2ma</td>\n",
       "      <td>NaN</td>\n",
       "      <td>2020-04-10 14:19:08</td>\n",
       "    </tr>\n",
       "    <tr>\n",
       "      <th>7</th>\n",
       "      <td>fyc2e0</td>\n",
       "      <td>NaN</td>\n",
       "      <td>2020-04-10 14:18:39</td>\n",
       "    </tr>\n",
       "    <tr>\n",
       "      <th>8</th>\n",
       "      <td>fyc295</td>\n",
       "      <td>NaN</td>\n",
       "      <td>2020-04-10 14:18:21</td>\n",
       "    </tr>\n",
       "    <tr>\n",
       "      <th>9</th>\n",
       "      <td>fmz6qee</td>\n",
       "      <td>Holy Mountain - Sleep</td>\n",
       "      <td>2020-04-10 14:19:38</td>\n",
       "    </tr>\n",
       "    <tr>\n",
       "      <th>10</th>\n",
       "      <td>fmz6qst</td>\n",
       "      <td>Comfortably Numb - Pink Floyd</td>\n",
       "      <td>2020-04-10 14:19:51</td>\n",
       "    </tr>\n",
       "    <tr>\n",
       "      <th>11</th>\n",
       "      <td>fyc23q</td>\n",
       "      <td>NaN</td>\n",
       "      <td>2020-04-10 14:18:04</td>\n",
       "    </tr>\n",
       "    <tr>\n",
       "      <th>12</th>\n",
       "      <td>fmz6pxw</td>\n",
       "      <td>\"Give your balls a tug, titfucker. Fight me, s...</td>\n",
       "      <td>2020-04-10 14:19:24</td>\n",
       "    </tr>\n",
       "    <tr>\n",
       "      <th>13</th>\n",
       "      <td>fyc1z1</td>\n",
       "      <td>NaN</td>\n",
       "      <td>2020-04-10 14:17:46</td>\n",
       "    </tr>\n",
       "    <tr>\n",
       "      <th>14</th>\n",
       "      <td>fyc1wl</td>\n",
       "      <td>NaN</td>\n",
       "      <td>2020-04-10 14:17:38</td>\n",
       "    </tr>\n",
       "    <tr>\n",
       "      <th>15</th>\n",
       "      <td>fmz6nqd</td>\n",
       "      <td>A random date and time.</td>\n",
       "      <td>2020-04-10 14:18:15</td>\n",
       "    </tr>\n",
       "    <tr>\n",
       "      <th>16</th>\n",
       "      <td>fmz6oma</td>\n",
       "      <td>No but your mum did</td>\n",
       "      <td>2020-04-10 14:18:43</td>\n",
       "    </tr>\n",
       "    <tr>\n",
       "      <th>17</th>\n",
       "      <td>fmz6pc4</td>\n",
       "      <td>\"did I need you to?\" is my go-to</td>\n",
       "      <td>2020-04-10 14:19:04</td>\n",
       "    </tr>\n",
       "    <tr>\n",
       "      <th>18</th>\n",
       "      <td>fmz6qeo</td>\n",
       "      <td>You’ve never asked how to read, but it was a c...</td>\n",
       "      <td>2020-04-10 14:19:38</td>\n",
       "    </tr>\n",
       "    <tr>\n",
       "      <th>19</th>\n",
       "      <td>fyc1v0</td>\n",
       "      <td>NaN</td>\n",
       "      <td>2020-04-10 14:17:32</td>\n",
       "    </tr>\n",
       "    <tr>\n",
       "      <th>20</th>\n",
       "      <td>fmz6n41</td>\n",
       "      <td>Cut your ear off</td>\n",
       "      <td>2020-04-10 14:17:54</td>\n",
       "    </tr>\n",
       "    <tr>\n",
       "      <th>21</th>\n",
       "      <td>fmz6q4t</td>\n",
       "      <td>Cutting on the wrong spots</td>\n",
       "      <td>2020-04-10 14:19:30</td>\n",
       "    </tr>\n",
       "    <tr>\n",
       "      <th>22</th>\n",
       "      <td>fmz6qqx</td>\n",
       "      <td>Infect you with Coronavirus</td>\n",
       "      <td>2020-04-10 14:19:50</td>\n",
       "    </tr>\n",
       "    <tr>\n",
       "      <th>23</th>\n",
       "      <td>fyc1oh</td>\n",
       "      <td>NaN</td>\n",
       "      <td>2020-04-10 14:17:10</td>\n",
       "    </tr>\n",
       "    <tr>\n",
       "      <th>24</th>\n",
       "      <td>fmz6o3i</td>\n",
       "      <td>Almost all of our technology is detrimental to...</td>\n",
       "      <td>2020-04-10 14:18:26</td>\n",
       "    </tr>\n",
       "  </tbody>\n",
       "</table>\n",
       "</div>"
      ],
      "text/plain": [
       "         id                                            content  \\\n",
       "0    fyc2yd                                                NaN   \n",
       "1    fyc2vf                                                NaN   \n",
       "2   fmz6r7y                                     Teleportation.   \n",
       "3    fyc2um                                                NaN   \n",
       "4   fmz6qtc                              Don't fear the reaper   \n",
       "5    fyc2qi                                                NaN   \n",
       "6    fyc2ma                                                NaN   \n",
       "7    fyc2e0                                                NaN   \n",
       "8    fyc295                                                NaN   \n",
       "9   fmz6qee                              Holy Mountain - Sleep   \n",
       "10  fmz6qst                      Comfortably Numb - Pink Floyd   \n",
       "11   fyc23q                                                NaN   \n",
       "12  fmz6pxw  \"Give your balls a tug, titfucker. Fight me, s...   \n",
       "13   fyc1z1                                                NaN   \n",
       "14   fyc1wl                                                NaN   \n",
       "15  fmz6nqd                            A random date and time.   \n",
       "16  fmz6oma                                No but your mum did   \n",
       "17  fmz6pc4                   \"did I need you to?\" is my go-to   \n",
       "18  fmz6qeo  You’ve never asked how to read, but it was a c...   \n",
       "19   fyc1v0                                                NaN   \n",
       "20  fmz6n41                                   Cut your ear off   \n",
       "21  fmz6q4t                         Cutting on the wrong spots   \n",
       "22  fmz6qqx                        Infect you with Coronavirus   \n",
       "23   fyc1oh                                                NaN   \n",
       "24  fmz6o3i  Almost all of our technology is detrimental to...   \n",
       "\n",
       "                   date  \n",
       "0   2020-04-10 14:19:47  \n",
       "1   2020-04-10 14:19:36  \n",
       "2   2020-04-10 14:20:05  \n",
       "3   2020-04-10 14:19:33  \n",
       "4   2020-04-10 14:19:52  \n",
       "5   2020-04-10 14:19:20  \n",
       "6   2020-04-10 14:19:08  \n",
       "7   2020-04-10 14:18:39  \n",
       "8   2020-04-10 14:18:21  \n",
       "9   2020-04-10 14:19:38  \n",
       "10  2020-04-10 14:19:51  \n",
       "11  2020-04-10 14:18:04  \n",
       "12  2020-04-10 14:19:24  \n",
       "13  2020-04-10 14:17:46  \n",
       "14  2020-04-10 14:17:38  \n",
       "15  2020-04-10 14:18:15  \n",
       "16  2020-04-10 14:18:43  \n",
       "17  2020-04-10 14:19:04  \n",
       "18  2020-04-10 14:19:38  \n",
       "19  2020-04-10 14:17:32  \n",
       "20  2020-04-10 14:17:54  \n",
       "21  2020-04-10 14:19:30  \n",
       "22  2020-04-10 14:19:50  \n",
       "23  2020-04-10 14:17:10  \n",
       "24  2020-04-10 14:18:26  "
      ]
     },
     "execution_count": 4,
     "metadata": {},
     "output_type": "execute_result"
    }
   ],
   "source": [
    "nondep = pd.read_csv(\"non_dep_data.csv\")\n",
    "nondep.head(25)"
   ]
  },
  {
   "cell_type": "code",
   "execution_count": 5,
   "metadata": {},
   "outputs": [
    {
     "data": {
      "text/plain": [
       "(10078, 3)"
      ]
     },
     "execution_count": 5,
     "metadata": {},
     "output_type": "execute_result"
    }
   ],
   "source": [
    "nondep.shape"
   ]
  },
  {
   "cell_type": "code",
   "execution_count": 6,
   "metadata": {},
   "outputs": [],
   "source": [
    "nondep.dropna(inplace=True)"
   ]
  },
  {
   "cell_type": "code",
   "execution_count": 7,
   "metadata": {},
   "outputs": [
    {
     "data": {
      "text/plain": [
       "(9187, 3)"
      ]
     },
     "execution_count": 7,
     "metadata": {},
     "output_type": "execute_result"
    }
   ],
   "source": [
    "nondep.shape"
   ]
  },
  {
   "cell_type": "code",
   "execution_count": 12,
   "metadata": {},
   "outputs": [
    {
     "data": {
      "text/html": [
       "<div>\n",
       "<style scoped>\n",
       "    .dataframe tbody tr th:only-of-type {\n",
       "        vertical-align: middle;\n",
       "    }\n",
       "\n",
       "    .dataframe tbody tr th {\n",
       "        vertical-align: top;\n",
       "    }\n",
       "\n",
       "    .dataframe thead th {\n",
       "        text-align: right;\n",
       "    }\n",
       "</style>\n",
       "<table border=\"1\" class=\"dataframe\">\n",
       "  <thead>\n",
       "    <tr style=\"text-align: right;\">\n",
       "      <th></th>\n",
       "      <th>DATE</th>\n",
       "      <th>NAME</th>\n",
       "      <th>TEXT</th>\n",
       "    </tr>\n",
       "  </thead>\n",
       "  <tbody>\n",
       "    <tr>\n",
       "      <th>0</th>\n",
       "      <td>\\n                            \\n              ...</td>\n",
       "      <td>['Nags']</td>\n",
       "      <td>\\nMy sister is depressed. She breaks down ever...</td>\n",
       "    </tr>\n",
       "    <tr>\n",
       "      <th>1</th>\n",
       "      <td>\\n                            \\n              ...</td>\n",
       "      <td>['Saoirse M']</td>\n",
       "      <td>\\nI started to feel more like myself last year...</td>\n",
       "    </tr>\n",
       "    <tr>\n",
       "      <th>2</th>\n",
       "      <td>\\n                            \\n              ...</td>\n",
       "      <td>['emmalou']</td>\n",
       "      <td>\\nHi There\\nJust posting as a way to vent frus...</td>\n",
       "    </tr>\n",
       "    <tr>\n",
       "      <th>3</th>\n",
       "      <td>\\n                            \\n              ...</td>\n",
       "      <td>['Pandora Paradoxical']</td>\n",
       "      <td>\\nHi, I am a 39 year old woman who has undiagn...</td>\n",
       "    </tr>\n",
       "    <tr>\n",
       "      <th>4</th>\n",
       "      <td>\\n                            \\n              ...</td>\n",
       "      <td>['AverageAusGuy']</td>\n",
       "      <td>\\nHi all\\nI have had anxiety and depression on...</td>\n",
       "    </tr>\n",
       "  </tbody>\n",
       "</table>\n",
       "</div>"
      ],
      "text/plain": [
       "                                                DATE                     NAME  \\\n",
       "0  \\n                            \\n              ...                 ['Nags']   \n",
       "1  \\n                            \\n              ...            ['Saoirse M']   \n",
       "2  \\n                            \\n              ...              ['emmalou']   \n",
       "3  \\n                            \\n              ...  ['Pandora Paradoxical']   \n",
       "4  \\n                            \\n              ...        ['AverageAusGuy']   \n",
       "\n",
       "                                                TEXT  \n",
       "0  \\nMy sister is depressed. She breaks down ever...  \n",
       "1  \\nI started to feel more like myself last year...  \n",
       "2  \\nHi There\\nJust posting as a way to vent frus...  \n",
       "3  \\nHi, I am a 39 year old woman who has undiagn...  \n",
       "4  \\nHi all\\nI have had anxiety and depression on...  "
      ]
     },
     "execution_count": 12,
     "metadata": {},
     "output_type": "execute_result"
    }
   ],
   "source": [
    "english = pd.read_csv('newenglishPostsall1.csv', index_col=0)\n",
    "df2 = pd.read_csv('newenglishPostsall2.csv', index_col=0)\n",
    "\n",
    "dep = english.append(df2,ignore_index = True)\n",
    "dep.head()"
   ]
  },
  {
   "cell_type": "code",
   "execution_count": 13,
   "metadata": {},
   "outputs": [
    {
     "data": {
      "text/plain": [
       "(3641, 3)"
      ]
     },
     "execution_count": 13,
     "metadata": {},
     "output_type": "execute_result"
    }
   ],
   "source": [
    "dep.shape"
   ]
  },
  {
   "cell_type": "code",
   "execution_count": 14,
   "metadata": {},
   "outputs": [],
   "source": [
    "nondep = nondep.sample(3650)"
   ]
  },
  {
   "cell_type": "code",
   "execution_count": 15,
   "metadata": {},
   "outputs": [
    {
     "data": {
      "text/plain": [
       "(3650, 3)"
      ]
     },
     "execution_count": 15,
     "metadata": {},
     "output_type": "execute_result"
    }
   ],
   "source": [
    "nondep.shape"
   ]
  },
  {
   "cell_type": "code",
   "execution_count": 16,
   "metadata": {},
   "outputs": [],
   "source": [
    "dep.drop(columns=[\"NAME\"], inplace=True)"
   ]
  },
  {
   "cell_type": "code",
   "execution_count": 17,
   "metadata": {},
   "outputs": [
    {
     "data": {
      "text/plain": [
       "(3641, 2)"
      ]
     },
     "execution_count": 17,
     "metadata": {},
     "output_type": "execute_result"
    }
   ],
   "source": [
    "dep.shape"
   ]
  },
  {
   "cell_type": "code",
   "execution_count": 18,
   "metadata": {},
   "outputs": [],
   "source": [
    "nondep.drop(columns=[\"id\"], inplace=True)"
   ]
  },
  {
   "cell_type": "code",
   "execution_count": 19,
   "metadata": {},
   "outputs": [],
   "source": [
    "nondep.rename(columns={\"date\": \"DATE\", \"content\": \"TEXT\"}, inplace=True)"
   ]
  },
  {
   "cell_type": "code",
   "execution_count": 20,
   "metadata": {},
   "outputs": [
    {
     "data": {
      "text/html": [
       "<div>\n",
       "<style scoped>\n",
       "    .dataframe tbody tr th:only-of-type {\n",
       "        vertical-align: middle;\n",
       "    }\n",
       "\n",
       "    .dataframe tbody tr th {\n",
       "        vertical-align: top;\n",
       "    }\n",
       "\n",
       "    .dataframe thead th {\n",
       "        text-align: right;\n",
       "    }\n",
       "</style>\n",
       "<table border=\"1\" class=\"dataframe\">\n",
       "  <thead>\n",
       "    <tr style=\"text-align: right;\">\n",
       "      <th></th>\n",
       "      <th>TEXT</th>\n",
       "      <th>DATE</th>\n",
       "    </tr>\n",
       "  </thead>\n",
       "  <tbody>\n",
       "    <tr>\n",
       "      <th>976</th>\n",
       "      <td>Get back together</td>\n",
       "      <td>2020-04-10 13:51:41</td>\n",
       "    </tr>\n",
       "    <tr>\n",
       "      <th>7360</th>\n",
       "      <td>The opposite sex</td>\n",
       "      <td>2020-04-10 12:07:28</td>\n",
       "    </tr>\n",
       "    <tr>\n",
       "      <th>128</th>\n",
       "      <td>Finish</td>\n",
       "      <td>2020-04-10 14:14:13</td>\n",
       "    </tr>\n",
       "    <tr>\n",
       "      <th>9214</th>\n",
       "      <td>This isn’t Tumblr..... (NO)</td>\n",
       "      <td>2020-04-10 12:23:33</td>\n",
       "    </tr>\n",
       "    <tr>\n",
       "      <th>4078</th>\n",
       "      <td>Lol that was a good one</td>\n",
       "      <td>2020-04-10 13:06:33</td>\n",
       "    </tr>\n",
       "  </tbody>\n",
       "</table>\n",
       "</div>"
      ],
      "text/plain": [
       "                             TEXT                 DATE\n",
       "976             Get back together  2020-04-10 13:51:41\n",
       "7360             The opposite sex  2020-04-10 12:07:28\n",
       "128                        Finish  2020-04-10 14:14:13\n",
       "9214  This isn’t Tumblr..... (NO)  2020-04-10 12:23:33\n",
       "4078      Lol that was a good one  2020-04-10 13:06:33"
      ]
     },
     "execution_count": 20,
     "metadata": {},
     "output_type": "execute_result"
    }
   ],
   "source": [
    "nondep.head()"
   ]
  },
  {
   "cell_type": "code",
   "execution_count": 21,
   "metadata": {},
   "outputs": [],
   "source": [
    "nondep[\"DEPRESSED\"] = 0\n",
    "dep[\"DEPRESSED\"] = 1"
   ]
  },
  {
   "cell_type": "code",
   "execution_count": 24,
   "metadata": {},
   "outputs": [
    {
     "data": {
      "text/html": [
       "<div>\n",
       "<style scoped>\n",
       "    .dataframe tbody tr th:only-of-type {\n",
       "        vertical-align: middle;\n",
       "    }\n",
       "\n",
       "    .dataframe tbody tr th {\n",
       "        vertical-align: top;\n",
       "    }\n",
       "\n",
       "    .dataframe thead th {\n",
       "        text-align: right;\n",
       "    }\n",
       "</style>\n",
       "<table border=\"1\" class=\"dataframe\">\n",
       "  <thead>\n",
       "    <tr style=\"text-align: right;\">\n",
       "      <th></th>\n",
       "      <th>TEXT</th>\n",
       "      <th>DATE</th>\n",
       "      <th>DEPRESSED</th>\n",
       "    </tr>\n",
       "  </thead>\n",
       "  <tbody>\n",
       "    <tr>\n",
       "      <th>976</th>\n",
       "      <td>Get back together</td>\n",
       "      <td>2020-04-10 13:51:41</td>\n",
       "      <td>0</td>\n",
       "    </tr>\n",
       "    <tr>\n",
       "      <th>7360</th>\n",
       "      <td>The opposite sex</td>\n",
       "      <td>2020-04-10 12:07:28</td>\n",
       "      <td>0</td>\n",
       "    </tr>\n",
       "    <tr>\n",
       "      <th>128</th>\n",
       "      <td>Finish</td>\n",
       "      <td>2020-04-10 14:14:13</td>\n",
       "      <td>0</td>\n",
       "    </tr>\n",
       "    <tr>\n",
       "      <th>9214</th>\n",
       "      <td>This isn’t Tumblr..... (NO)</td>\n",
       "      <td>2020-04-10 12:23:33</td>\n",
       "      <td>0</td>\n",
       "    </tr>\n",
       "    <tr>\n",
       "      <th>4078</th>\n",
       "      <td>Lol that was a good one</td>\n",
       "      <td>2020-04-10 13:06:33</td>\n",
       "      <td>0</td>\n",
       "    </tr>\n",
       "  </tbody>\n",
       "</table>\n",
       "</div>"
      ],
      "text/plain": [
       "                             TEXT                 DATE  DEPRESSED\n",
       "976             Get back together  2020-04-10 13:51:41          0\n",
       "7360             The opposite sex  2020-04-10 12:07:28          0\n",
       "128                        Finish  2020-04-10 14:14:13          0\n",
       "9214  This isn’t Tumblr..... (NO)  2020-04-10 12:23:33          0\n",
       "4078      Lol that was a good one  2020-04-10 13:06:33          0"
      ]
     },
     "execution_count": 24,
     "metadata": {},
     "output_type": "execute_result"
    }
   ],
   "source": [
    "nondep.head()"
   ]
  },
  {
   "cell_type": "code",
   "execution_count": 25,
   "metadata": {},
   "outputs": [
    {
     "data": {
      "text/html": [
       "<div>\n",
       "<style scoped>\n",
       "    .dataframe tbody tr th:only-of-type {\n",
       "        vertical-align: middle;\n",
       "    }\n",
       "\n",
       "    .dataframe tbody tr th {\n",
       "        vertical-align: top;\n",
       "    }\n",
       "\n",
       "    .dataframe thead th {\n",
       "        text-align: right;\n",
       "    }\n",
       "</style>\n",
       "<table border=\"1\" class=\"dataframe\">\n",
       "  <thead>\n",
       "    <tr style=\"text-align: right;\">\n",
       "      <th></th>\n",
       "      <th>DATE</th>\n",
       "      <th>TEXT</th>\n",
       "      <th>DEPRESSED</th>\n",
       "    </tr>\n",
       "  </thead>\n",
       "  <tbody>\n",
       "    <tr>\n",
       "      <th>0</th>\n",
       "      <td>\\n                            \\n              ...</td>\n",
       "      <td>\\nMy sister is depressed. She breaks down ever...</td>\n",
       "      <td>1</td>\n",
       "    </tr>\n",
       "    <tr>\n",
       "      <th>1</th>\n",
       "      <td>\\n                            \\n              ...</td>\n",
       "      <td>\\nI started to feel more like myself last year...</td>\n",
       "      <td>1</td>\n",
       "    </tr>\n",
       "    <tr>\n",
       "      <th>2</th>\n",
       "      <td>\\n                            \\n              ...</td>\n",
       "      <td>\\nHi There\\nJust posting as a way to vent frus...</td>\n",
       "      <td>1</td>\n",
       "    </tr>\n",
       "    <tr>\n",
       "      <th>3</th>\n",
       "      <td>\\n                            \\n              ...</td>\n",
       "      <td>\\nHi, I am a 39 year old woman who has undiagn...</td>\n",
       "      <td>1</td>\n",
       "    </tr>\n",
       "    <tr>\n",
       "      <th>4</th>\n",
       "      <td>\\n                            \\n              ...</td>\n",
       "      <td>\\nHi all\\nI have had anxiety and depression on...</td>\n",
       "      <td>1</td>\n",
       "    </tr>\n",
       "  </tbody>\n",
       "</table>\n",
       "</div>"
      ],
      "text/plain": [
       "                                                DATE  \\\n",
       "0  \\n                            \\n              ...   \n",
       "1  \\n                            \\n              ...   \n",
       "2  \\n                            \\n              ...   \n",
       "3  \\n                            \\n              ...   \n",
       "4  \\n                            \\n              ...   \n",
       "\n",
       "                                                TEXT  DEPRESSED  \n",
       "0  \\nMy sister is depressed. She breaks down ever...          1  \n",
       "1  \\nI started to feel more like myself last year...          1  \n",
       "2  \\nHi There\\nJust posting as a way to vent frus...          1  \n",
       "3  \\nHi, I am a 39 year old woman who has undiagn...          1  \n",
       "4  \\nHi all\\nI have had anxiety and depression on...          1  "
      ]
     },
     "execution_count": 25,
     "metadata": {},
     "output_type": "execute_result"
    }
   ],
   "source": [
    "dep.head()"
   ]
  },
  {
   "cell_type": "code",
   "execution_count": 26,
   "metadata": {},
   "outputs": [
    {
     "data": {
      "text/plain": [
       "0       \\n                            \\n              ...\n",
       "1       \\n                            \\n              ...\n",
       "2       \\n                            \\n              ...\n",
       "3       \\n                            \\n              ...\n",
       "4       \\n                            \\n              ...\n",
       "                              ...                        \n",
       "3636    \\n                            \\n              ...\n",
       "3637    \\n                            \\n              ...\n",
       "3638    \\n                            \\n              ...\n",
       "3639    \\n                            \\n              ...\n",
       "3640    \\n                            \\n              ...\n",
       "Name: DATE, Length: 3641, dtype: object"
      ]
     },
     "execution_count": 26,
     "metadata": {},
     "output_type": "execute_result"
    }
   ],
   "source": [
    "dep[\"DATE\"]"
   ]
  },
  {
   "cell_type": "code",
   "execution_count": 27,
   "metadata": {},
   "outputs": [
    {
     "data": {
      "text/html": [
       "<div>\n",
       "<style scoped>\n",
       "    .dataframe tbody tr th:only-of-type {\n",
       "        vertical-align: middle;\n",
       "    }\n",
       "\n",
       "    .dataframe tbody tr th {\n",
       "        vertical-align: top;\n",
       "    }\n",
       "\n",
       "    .dataframe thead th {\n",
       "        text-align: right;\n",
       "    }\n",
       "</style>\n",
       "<table border=\"1\" class=\"dataframe\">\n",
       "  <thead>\n",
       "    <tr style=\"text-align: right;\">\n",
       "      <th></th>\n",
       "      <th>DATE</th>\n",
       "      <th>TEXT</th>\n",
       "      <th>DEPRESSED</th>\n",
       "    </tr>\n",
       "  </thead>\n",
       "  <tbody>\n",
       "    <tr>\n",
       "      <th>0</th>\n",
       "      <td>14 March 2020</td>\n",
       "      <td>\\nMy sister is depressed. She breaks down ever...</td>\n",
       "      <td>1</td>\n",
       "    </tr>\n",
       "    <tr>\n",
       "      <th>1</th>\n",
       "      <td>12 March 2020</td>\n",
       "      <td>\\nI started to feel more like myself last year...</td>\n",
       "      <td>1</td>\n",
       "    </tr>\n",
       "    <tr>\n",
       "      <th>2</th>\n",
       "      <td>13 March 2020</td>\n",
       "      <td>\\nHi There\\nJust posting as a way to vent frus...</td>\n",
       "      <td>1</td>\n",
       "    </tr>\n",
       "    <tr>\n",
       "      <th>3</th>\n",
       "      <td>7 February 2020</td>\n",
       "      <td>\\nHi, I am a 39 year old woman who has undiagn...</td>\n",
       "      <td>1</td>\n",
       "    </tr>\n",
       "    <tr>\n",
       "      <th>4</th>\n",
       "      <td>12 March 2020</td>\n",
       "      <td>\\nHi all\\nI have had anxiety and depression on...</td>\n",
       "      <td>1</td>\n",
       "    </tr>\n",
       "  </tbody>\n",
       "</table>\n",
       "</div>"
      ],
      "text/plain": [
       "              DATE                                               TEXT  \\\n",
       "0    14 March 2020  \\nMy sister is depressed. She breaks down ever...   \n",
       "1    12 March 2020  \\nI started to feel more like myself last year...   \n",
       "2    13 March 2020  \\nHi There\\nJust posting as a way to vent frus...   \n",
       "3  7 February 2020  \\nHi, I am a 39 year old woman who has undiagn...   \n",
       "4    12 March 2020  \\nHi all\\nI have had anxiety and depression on...   \n",
       "\n",
       "   DEPRESSED  \n",
       "0          1  \n",
       "1          1  \n",
       "2          1  \n",
       "3          1  \n",
       "4          1  "
      ]
     },
     "execution_count": 27,
     "metadata": {},
     "output_type": "execute_result"
    }
   ],
   "source": [
    "dep['DATE'] = dep['DATE'].str.replace('[\\n\\t\\t\\t]','')\n",
    "dep['DATE'] = dep['DATE'].str.strip()\n",
    "dep.head()"
   ]
  },
  {
   "cell_type": "code",
   "execution_count": 28,
   "metadata": {},
   "outputs": [
    {
     "data": {
      "text/plain": [
       "0         14 March 2020\n",
       "1         12 March 2020\n",
       "2         13 March 2020\n",
       "3       7 February 2020\n",
       "4         12 March 2020\n",
       "             ...       \n",
       "3636    13 January 2014\n",
       "3637    15 January 2014\n",
       "3638    12 January 2014\n",
       "3639    15 January 2014\n",
       "3640    11 January 2014\n",
       "Name: DATE, Length: 3641, dtype: object"
      ]
     },
     "execution_count": 28,
     "metadata": {},
     "output_type": "execute_result"
    }
   ],
   "source": [
    "dep[\"DATE\"]"
   ]
  },
  {
   "cell_type": "code",
   "execution_count": 34,
   "metadata": {},
   "outputs": [],
   "source": [
    "dep['DATE'] = pd.to_datetime(dep['DATE']).dt.strftime('%Y-%m-%d')"
   ]
  },
  {
   "cell_type": "code",
   "execution_count": 35,
   "metadata": {},
   "outputs": [
    {
     "data": {
      "text/html": [
       "<div>\n",
       "<style scoped>\n",
       "    .dataframe tbody tr th:only-of-type {\n",
       "        vertical-align: middle;\n",
       "    }\n",
       "\n",
       "    .dataframe tbody tr th {\n",
       "        vertical-align: top;\n",
       "    }\n",
       "\n",
       "    .dataframe thead th {\n",
       "        text-align: right;\n",
       "    }\n",
       "</style>\n",
       "<table border=\"1\" class=\"dataframe\">\n",
       "  <thead>\n",
       "    <tr style=\"text-align: right;\">\n",
       "      <th></th>\n",
       "      <th>DATE</th>\n",
       "      <th>TEXT</th>\n",
       "      <th>DEPRESSED</th>\n",
       "    </tr>\n",
       "  </thead>\n",
       "  <tbody>\n",
       "    <tr>\n",
       "      <th>0</th>\n",
       "      <td>2020-03-14</td>\n",
       "      <td>\\nMy sister is depressed. She breaks down ever...</td>\n",
       "      <td>1</td>\n",
       "    </tr>\n",
       "    <tr>\n",
       "      <th>1</th>\n",
       "      <td>2020-03-12</td>\n",
       "      <td>\\nI started to feel more like myself last year...</td>\n",
       "      <td>1</td>\n",
       "    </tr>\n",
       "    <tr>\n",
       "      <th>2</th>\n",
       "      <td>2020-03-13</td>\n",
       "      <td>\\nHi There\\nJust posting as a way to vent frus...</td>\n",
       "      <td>1</td>\n",
       "    </tr>\n",
       "    <tr>\n",
       "      <th>3</th>\n",
       "      <td>2020-02-07</td>\n",
       "      <td>\\nHi, I am a 39 year old woman who has undiagn...</td>\n",
       "      <td>1</td>\n",
       "    </tr>\n",
       "    <tr>\n",
       "      <th>4</th>\n",
       "      <td>2020-03-12</td>\n",
       "      <td>\\nHi all\\nI have had anxiety and depression on...</td>\n",
       "      <td>1</td>\n",
       "    </tr>\n",
       "  </tbody>\n",
       "</table>\n",
       "</div>"
      ],
      "text/plain": [
       "         DATE                                               TEXT  DEPRESSED\n",
       "0  2020-03-14  \\nMy sister is depressed. She breaks down ever...          1\n",
       "1  2020-03-12  \\nI started to feel more like myself last year...          1\n",
       "2  2020-03-13  \\nHi There\\nJust posting as a way to vent frus...          1\n",
       "3  2020-02-07  \\nHi, I am a 39 year old woman who has undiagn...          1\n",
       "4  2020-03-12  \\nHi all\\nI have had anxiety and depression on...          1"
      ]
     },
     "execution_count": 35,
     "metadata": {},
     "output_type": "execute_result"
    }
   ],
   "source": [
    "dep.head()"
   ]
  },
  {
   "cell_type": "code",
   "execution_count": null,
   "metadata": {},
   "outputs": [],
   "source": [
    "dataset = "
   ]
  }
 ],
 "metadata": {
  "kernelspec": {
   "display_name": "Python 3",
   "language": "python",
   "name": "python3"
  },
  "language_info": {
   "codemirror_mode": {
    "name": "ipython",
    "version": 3
   },
   "file_extension": ".py",
   "mimetype": "text/x-python",
   "name": "python",
   "nbconvert_exporter": "python",
   "pygments_lexer": "ipython3",
   "version": "3.7.6"
  }
 },
 "nbformat": 4,
 "nbformat_minor": 4
}
