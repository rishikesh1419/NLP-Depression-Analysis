{
  "nbformat": 4,
  "nbformat_minor": 0,
  "metadata": {
    "kernelspec": {
      "name": "python3",
      "display_name": "Python 3"
    },
    "language_info": {
      "codemirror_mode": {
        "name": "ipython",
        "version": 3
      },
      "file_extension": ".py",
      "mimetype": "text/x-python",
      "name": "python",
      "nbconvert_exporter": "python",
      "pygments_lexer": "ipython3",
      "version": "3.7.6"
    },
    "colab": {
      "name": "preprocess_and_baseline.ipynb",
      "provenance": [],
      "collapsed_sections": []
    }
  },
  "cells": [
    {
      "cell_type": "code",
      "metadata": {
        "id": "94bGuaavdIjz",
        "colab_type": "code",
        "colab": {}
      },
      "source": [
        "import pickle\n",
        "import pandas as pd\n",
        "import re\n",
        "import string\n",
        "import nltk\n",
        "from nltk.corpus import stopwords\n",
        "import sklearn\n",
        "from sklearn.utils import shuffle\n",
        "from sklearn.model_selection import train_test_split\n",
        "from sklearn.feature_extraction.text import TfidfVectorizer\n",
        "from sklearn.linear_model import LogisticRegression\n",
        "import sklearn.svm as svm\n",
        "import sklearn.metrics as metrics\n",
        "import numpy as np"
      ],
      "execution_count": 0,
      "outputs": []
    },
    {
      "cell_type": "code",
      "metadata": {
        "id": "vZyva4aPdaxy",
        "colab_type": "code",
        "outputId": "73137063-fe0d-4b5c-dc4a-e6c667f5b66f",
        "colab": {
          "base_uri": "https://localhost:8080/",
          "height": 34
        }
      },
      "source": [
        "from google.colab import drive\n",
        "drive.mount('/content/drive')\n",
        "import sys\n",
        "sys.path.append('/content/drive/My Drive/Colab Notebooks')"
      ],
      "execution_count": 0,
      "outputs": [
        {
          "output_type": "stream",
          "text": [
            "Drive already mounted at /content/drive; to attempt to forcibly remount, call drive.mount(\"/content/drive\", force_remount=True).\n"
          ],
          "name": "stdout"
        }
      ]
    },
    {
      "cell_type": "code",
      "metadata": {
        "id": "r5RtyxjXdIj4",
        "colab_type": "code",
        "outputId": "9720d8f1-54fc-448e-c470-7ddb92c84835",
        "colab": {
          "base_uri": "https://localhost:8080/",
          "height": 34
        }
      },
      "source": [
        "depressed_pickle = open(\"/content/drive/My Drive/Colab Notebooks/dep_data/depressed.pickle\",\"rb\")\n",
        "depressed_dict = pickle.load(depressed_pickle)\n",
        "depressed_df = pd.DataFrame(depressed_dict)\n",
        "depressed_df.drop_duplicates(subset=['id'], inplace=True)\n",
        "print(\"test Total number of comments: \", sum(depressed_df['num_comments']))"
      ],
      "execution_count": 0,
      "outputs": [
        {
          "output_type": "stream",
          "text": [
            "test Total number of comments:  121355\n"
          ],
          "name": "stdout"
        }
      ]
    },
    {
      "cell_type": "code",
      "metadata": {
        "id": "VgvBXQQAdIj9",
        "colab_type": "code",
        "outputId": "1157ad70-8df7-4c86-bc67-51170922c3eb",
        "colab": {
          "base_uri": "https://localhost:8080/",
          "height": 34
        }
      },
      "source": [
        "non_depressed_pickle = open(\"/content/drive/My Drive/Colab Notebooks/dep_data/non_depressed.pickle\",\"rb\")\n",
        "non_depressed_dict = pickle.load(non_depressed_pickle)\n",
        "non_depressed_df = pd.DataFrame(non_depressed_dict)\n",
        "non_depressed_df.drop_duplicates(subset=['id'], inplace=True)\n",
        "print(\"test Total number of comments: \", sum(non_depressed_df['num_comments']))"
      ],
      "execution_count": 0,
      "outputs": [
        {
          "output_type": "stream",
          "text": [
            "test Total number of comments:  178277\n"
          ],
          "name": "stdout"
        }
      ]
    },
    {
      "cell_type": "code",
      "metadata": {
        "id": "aO6FC_95dIkC",
        "colab_type": "code",
        "colab": {}
      },
      "source": [
        "depressed_comments_arr = depressed_df['comments'].tolist()\n",
        "non_depressed_comments_arr = non_depressed_df['comments'].tolist()"
      ],
      "execution_count": 0,
      "outputs": []
    },
    {
      "cell_type": "code",
      "metadata": {
        "id": "82TVXPW1dIkH",
        "colab_type": "code",
        "colab": {}
      },
      "source": [
        "depressed_comments = [comment for post in depressed_df['comments'] for comment in post]\n",
        "non_depressed_comments = [comment for post in non_depressed_df['comments'] for comment in post]"
      ],
      "execution_count": 0,
      "outputs": []
    },
    {
      "cell_type": "code",
      "metadata": {
        "id": "v7tLgf_BdIkL",
        "colab_type": "code",
        "outputId": "b8eab779-8ded-4b2e-f490-5179696d150e",
        "colab": {
          "base_uri": "https://localhost:8080/",
          "height": 51
        }
      },
      "source": [
        "print(\"depressed length \", len(depressed_comments))\n",
        "print(\"non depressed length \", len(non_depressed_comments))"
      ],
      "execution_count": 0,
      "outputs": [
        {
          "output_type": "stream",
          "text": [
            "depressed length  116900\n",
            "non depressed length  127911\n"
          ],
          "name": "stdout"
        }
      ]
    },
    {
      "cell_type": "code",
      "metadata": {
        "id": "daaSlaW4dIkQ",
        "colab_type": "code",
        "colab": {}
      },
      "source": [
        "def clean_one_comment(comment):\n",
        "    comment = comment.lower()\n",
        "    # remove /r/, /u/, numbers\n",
        "    comment = re.sub(r\"(\\/r\\/)|(\\/u\\/)|(\\d+)\",\"\",comment)\n",
        "    # remove punctuation\n",
        "    comment = comment.translate(str.maketrans('','', string.punctuation))\n",
        "    # replacing ' \n",
        "    comment = comment.replace('’','')\n",
        "    comment = comment.replace('\\n',\" \")\n",
        "    # remove trailing whitespace\n",
        "    comment = comment.strip()\n",
        "    return comment\n"
      ],
      "execution_count": 0,
      "outputs": []
    },
    {
      "cell_type": "code",
      "metadata": {
        "id": "C70uWg4mdIkW",
        "colab_type": "code",
        "colab": {}
      },
      "source": [
        "def clean_comments(comments):\n",
        "    removed_comments = ['[deleted]', '[removed]']\n",
        "    filtered_comments = [comment for comment in comments if comment not in removed_comments]\n",
        "    comments_clean = list()\n",
        "    for comment in filtered_comments:\n",
        "        comment_new = clean_one_comment(comment)\n",
        "        comments_clean.append(comment_new)\n",
        "    return comments_clean"
      ],
      "execution_count": 0,
      "outputs": []
    },
    {
      "cell_type": "code",
      "metadata": {
        "id": "5PgC9zKxdIka",
        "colab_type": "code",
        "outputId": "a008db0c-d6d8-43fa-9818-ec3c8cce6419",
        "colab": {
          "base_uri": "https://localhost:8080/",
          "height": 88
        }
      },
      "source": [
        "print('orig length: ', len(depressed_comments))\n",
        "print(depressed_comments[:10])\n",
        "depressed_comments_cleaned = clean_comments(depressed_comments)\n",
        "print('cleaned length: ', len(depressed_comments_cleaned))"
      ],
      "execution_count": 0,
      "outputs": [
        {
          "output_type": "stream",
          "text": [
            "orig length:  116900\n",
            "[\"Sorry if I'm stupid, but what's activism? I don't want to accidentally break the rules\", 'Ah thank you, usually I just see it as a load of horsecrap of people wanting to feel good by repeating lines of comfort words to a person and thinking they did some good not knowing that they made a depressed person lose eveb more hope and reason to live with their plastic character. Some genuinely care but not all.', 'Lol somebody in my town thought that day was a good day for suicide good job. Small town of like 14k citizens 5 suicides under 18 in 1 year. Thinking about joining the club as well.', 'I really appreciate this post. The \"activism\" and \"awareness\" days are honestly so triggering for me that I\\'d like to pretend they don\\'t exist.', 'donate to my mom lol\\n\\n&#x200B;', '[removed]', '[deleted]', '[deleted]', '[deleted]', \"Basically anything that's aimed at raising awreness (or money) among the general public.  Totally out of place in a support community.  Our problem here is usually too much awareness, not too little.\\n\\nWe do think that well-informed activism is great, but we are the exact opposite of the right target audience.\"]\n",
            "cleaned length:  111962\n"
          ],
          "name": "stdout"
        }
      ]
    },
    {
      "cell_type": "code",
      "metadata": {
        "id": "xe9LKD9DdIke",
        "colab_type": "code",
        "outputId": "a98e317a-77d6-421d-e82a-50a4749a8eeb",
        "colab": {
          "base_uri": "https://localhost:8080/",
          "height": 34
        }
      },
      "source": [
        "non_depressed_comments_cleaned = clean_comments(non_depressed_comments)\n",
        "print('cleaned length: ', len(non_depressed_comments_cleaned))"
      ],
      "execution_count": 0,
      "outputs": [
        {
          "output_type": "stream",
          "text": [
            "cleaned length:  127559\n"
          ],
          "name": "stdout"
        }
      ]
    },
    {
      "cell_type": "code",
      "metadata": {
        "id": "0J-FEHPcdIkj",
        "colab_type": "code",
        "outputId": "8943c214-16ce-49c0-9652-703710e6429c",
        "colab": {
          "base_uri": "https://localhost:8080/",
          "height": 419
        }
      },
      "source": [
        "depressed_df = pd.DataFrame(depressed_comments_cleaned)\n",
        "depressed_df.columns = ['text']\n",
        "depressed_df['label'] = 1 # note 1 = depressed, 0 = not depressed\n",
        "depressed_df"
      ],
      "execution_count": 0,
      "outputs": [
        {
          "output_type": "execute_result",
          "data": {
            "text/html": [
              "<div>\n",
              "<style scoped>\n",
              "    .dataframe tbody tr th:only-of-type {\n",
              "        vertical-align: middle;\n",
              "    }\n",
              "\n",
              "    .dataframe tbody tr th {\n",
              "        vertical-align: top;\n",
              "    }\n",
              "\n",
              "    .dataframe thead th {\n",
              "        text-align: right;\n",
              "    }\n",
              "</style>\n",
              "<table border=\"1\" class=\"dataframe\">\n",
              "  <thead>\n",
              "    <tr style=\"text-align: right;\">\n",
              "      <th></th>\n",
              "      <th>text</th>\n",
              "      <th>label</th>\n",
              "    </tr>\n",
              "  </thead>\n",
              "  <tbody>\n",
              "    <tr>\n",
              "      <th>0</th>\n",
              "      <td>sorry if im stupid but whats activism i dont w...</td>\n",
              "      <td>1</td>\n",
              "    </tr>\n",
              "    <tr>\n",
              "      <th>1</th>\n",
              "      <td>ah thank you usually i just see it as a load o...</td>\n",
              "      <td>1</td>\n",
              "    </tr>\n",
              "    <tr>\n",
              "      <th>2</th>\n",
              "      <td>lol somebody in my town thought that day was a...</td>\n",
              "      <td>1</td>\n",
              "    </tr>\n",
              "    <tr>\n",
              "      <th>3</th>\n",
              "      <td>i really appreciate this post the activism and...</td>\n",
              "      <td>1</td>\n",
              "    </tr>\n",
              "    <tr>\n",
              "      <th>4</th>\n",
              "      <td>donate to my mom lol  xb</td>\n",
              "      <td>1</td>\n",
              "    </tr>\n",
              "    <tr>\n",
              "      <th>...</th>\n",
              "      <td>...</td>\n",
              "      <td>...</td>\n",
              "    </tr>\n",
              "    <tr>\n",
              "      <th>111957</th>\n",
              "      <td>amazon barnes and noble wherever its meant for...</td>\n",
              "      <td>1</td>\n",
              "    </tr>\n",
              "    <tr>\n",
              "      <th>111958</th>\n",
              "      <td>bad timing dumb bot</td>\n",
              "      <td>1</td>\n",
              "    </tr>\n",
              "    <tr>\n",
              "      <th>111959</th>\n",
              "      <td>i hear i do hear ya see if you have any resour...</td>\n",
              "      <td>1</td>\n",
              "    </tr>\n",
              "    <tr>\n",
              "      <th>111960</th>\n",
              "      <td>thx kind internet person its been a while</td>\n",
              "      <td>1</td>\n",
              "    </tr>\n",
              "    <tr>\n",
              "      <th>111961</th>\n",
              "      <td>another internet hug for ya</td>\n",
              "      <td>1</td>\n",
              "    </tr>\n",
              "  </tbody>\n",
              "</table>\n",
              "<p>111962 rows × 2 columns</p>\n",
              "</div>"
            ],
            "text/plain": [
              "                                                     text  label\n",
              "0       sorry if im stupid but whats activism i dont w...      1\n",
              "1       ah thank you usually i just see it as a load o...      1\n",
              "2       lol somebody in my town thought that day was a...      1\n",
              "3       i really appreciate this post the activism and...      1\n",
              "4                                donate to my mom lol  xb      1\n",
              "...                                                   ...    ...\n",
              "111957  amazon barnes and noble wherever its meant for...      1\n",
              "111958                                bad timing dumb bot      1\n",
              "111959  i hear i do hear ya see if you have any resour...      1\n",
              "111960          thx kind internet person its been a while      1\n",
              "111961                        another internet hug for ya      1\n",
              "\n",
              "[111962 rows x 2 columns]"
            ]
          },
          "metadata": {
            "tags": []
          },
          "execution_count": 53
        }
      ]
    },
    {
      "cell_type": "code",
      "metadata": {
        "id": "Sv8o3S6kdIko",
        "colab_type": "code",
        "outputId": "8c04bbad-6e76-4fb3-8cdf-a5190209bac1",
        "colab": {
          "base_uri": "https://localhost:8080/",
          "height": 419
        }
      },
      "source": [
        "non_depressed_df = pd.DataFrame(non_depressed_comments_cleaned)\n",
        "non_depressed_df.columns = ['text']\n",
        "non_depressed_df['label'] = 0\n",
        "non_depressed_df"
      ],
      "execution_count": 0,
      "outputs": [
        {
          "output_type": "execute_result",
          "data": {
            "text/html": [
              "<div>\n",
              "<style scoped>\n",
              "    .dataframe tbody tr th:only-of-type {\n",
              "        vertical-align: middle;\n",
              "    }\n",
              "\n",
              "    .dataframe tbody tr th {\n",
              "        vertical-align: top;\n",
              "    }\n",
              "\n",
              "    .dataframe thead th {\n",
              "        text-align: right;\n",
              "    }\n",
              "</style>\n",
              "<table border=\"1\" class=\"dataframe\">\n",
              "  <thead>\n",
              "    <tr style=\"text-align: right;\">\n",
              "      <th></th>\n",
              "      <th>text</th>\n",
              "      <th>label</th>\n",
              "    </tr>\n",
              "  </thead>\n",
              "  <tbody>\n",
              "    <tr>\n",
              "      <th>0</th>\n",
              "      <td>his dad developed huntingtons and his mom left...</td>\n",
              "      <td>0</td>\n",
              "    </tr>\n",
              "    <tr>\n",
              "      <th>1</th>\n",
              "      <td>got back together with him after  years apart ...</td>\n",
              "      <td>0</td>\n",
              "    </tr>\n",
              "    <tr>\n",
              "      <th>2</th>\n",
              "      <td>she met someone like a decade ago and theyve b...</td>\n",
              "      <td>0</td>\n",
              "    </tr>\n",
              "    <tr>\n",
              "      <th>3</th>\n",
              "      <td>she is a therapist and happily married</td>\n",
              "      <td>0</td>\n",
              "    </tr>\n",
              "    <tr>\n",
              "      <th>4</th>\n",
              "      <td>she was an exchange student who i was absolute...</td>\n",
              "      <td>0</td>\n",
              "    </tr>\n",
              "    <tr>\n",
              "      <th>...</th>\n",
              "      <td>...</td>\n",
              "      <td>...</td>\n",
              "    </tr>\n",
              "    <tr>\n",
              "      <th>127554</th>\n",
              "      <td>from a buick  is hands down my favorite king n...</td>\n",
              "      <td>0</td>\n",
              "    </tr>\n",
              "    <tr>\n",
              "      <th>127555</th>\n",
              "      <td>yes the illustrations were so creepy</td>\n",
              "      <td>0</td>\n",
              "    </tr>\n",
              "    <tr>\n",
              "      <th>127556</th>\n",
              "      <td>hell no but i will end up watching it regardless</td>\n",
              "      <td>0</td>\n",
              "    </tr>\n",
              "    <tr>\n",
              "      <th>127557</th>\n",
              "      <td>i think its super underrated many king fans ha...</td>\n",
              "      <td>0</td>\n",
              "    </tr>\n",
              "    <tr>\n",
              "      <th>127558</th>\n",
              "      <td>not so sure of my self after seeing that comme...</td>\n",
              "      <td>0</td>\n",
              "    </tr>\n",
              "  </tbody>\n",
              "</table>\n",
              "<p>127559 rows × 2 columns</p>\n",
              "</div>"
            ],
            "text/plain": [
              "                                                     text  label\n",
              "0       his dad developed huntingtons and his mom left...      0\n",
              "1       got back together with him after  years apart ...      0\n",
              "2       she met someone like a decade ago and theyve b...      0\n",
              "3                  she is a therapist and happily married      0\n",
              "4       she was an exchange student who i was absolute...      0\n",
              "...                                                   ...    ...\n",
              "127554  from a buick  is hands down my favorite king n...      0\n",
              "127555               yes the illustrations were so creepy      0\n",
              "127556   hell no but i will end up watching it regardless      0\n",
              "127557  i think its super underrated many king fans ha...      0\n",
              "127558  not so sure of my self after seeing that comme...      0\n",
              "\n",
              "[127559 rows x 2 columns]"
            ]
          },
          "metadata": {
            "tags": []
          },
          "execution_count": 54
        }
      ]
    },
    {
      "cell_type": "code",
      "metadata": {
        "id": "YYidKZXzdIku",
        "colab_type": "code",
        "outputId": "8c9da386-bdd5-40a8-bf64-f4b908879481",
        "colab": {
          "base_uri": "https://localhost:8080/",
          "height": 419
        }
      },
      "source": [
        "df = pd.concat([depressed_df, non_depressed_df]).reset_index(drop=True)\n",
        "df"
      ],
      "execution_count": 0,
      "outputs": [
        {
          "output_type": "execute_result",
          "data": {
            "text/html": [
              "<div>\n",
              "<style scoped>\n",
              "    .dataframe tbody tr th:only-of-type {\n",
              "        vertical-align: middle;\n",
              "    }\n",
              "\n",
              "    .dataframe tbody tr th {\n",
              "        vertical-align: top;\n",
              "    }\n",
              "\n",
              "    .dataframe thead th {\n",
              "        text-align: right;\n",
              "    }\n",
              "</style>\n",
              "<table border=\"1\" class=\"dataframe\">\n",
              "  <thead>\n",
              "    <tr style=\"text-align: right;\">\n",
              "      <th></th>\n",
              "      <th>text</th>\n",
              "      <th>label</th>\n",
              "    </tr>\n",
              "  </thead>\n",
              "  <tbody>\n",
              "    <tr>\n",
              "      <th>0</th>\n",
              "      <td>sorry if im stupid but whats activism i dont w...</td>\n",
              "      <td>1</td>\n",
              "    </tr>\n",
              "    <tr>\n",
              "      <th>1</th>\n",
              "      <td>ah thank you usually i just see it as a load o...</td>\n",
              "      <td>1</td>\n",
              "    </tr>\n",
              "    <tr>\n",
              "      <th>2</th>\n",
              "      <td>lol somebody in my town thought that day was a...</td>\n",
              "      <td>1</td>\n",
              "    </tr>\n",
              "    <tr>\n",
              "      <th>3</th>\n",
              "      <td>i really appreciate this post the activism and...</td>\n",
              "      <td>1</td>\n",
              "    </tr>\n",
              "    <tr>\n",
              "      <th>4</th>\n",
              "      <td>donate to my mom lol  xb</td>\n",
              "      <td>1</td>\n",
              "    </tr>\n",
              "    <tr>\n",
              "      <th>...</th>\n",
              "      <td>...</td>\n",
              "      <td>...</td>\n",
              "    </tr>\n",
              "    <tr>\n",
              "      <th>239516</th>\n",
              "      <td>from a buick  is hands down my favorite king n...</td>\n",
              "      <td>0</td>\n",
              "    </tr>\n",
              "    <tr>\n",
              "      <th>239517</th>\n",
              "      <td>yes the illustrations were so creepy</td>\n",
              "      <td>0</td>\n",
              "    </tr>\n",
              "    <tr>\n",
              "      <th>239518</th>\n",
              "      <td>hell no but i will end up watching it regardless</td>\n",
              "      <td>0</td>\n",
              "    </tr>\n",
              "    <tr>\n",
              "      <th>239519</th>\n",
              "      <td>i think its super underrated many king fans ha...</td>\n",
              "      <td>0</td>\n",
              "    </tr>\n",
              "    <tr>\n",
              "      <th>239520</th>\n",
              "      <td>not so sure of my self after seeing that comme...</td>\n",
              "      <td>0</td>\n",
              "    </tr>\n",
              "  </tbody>\n",
              "</table>\n",
              "<p>239521 rows × 2 columns</p>\n",
              "</div>"
            ],
            "text/plain": [
              "                                                     text  label\n",
              "0       sorry if im stupid but whats activism i dont w...      1\n",
              "1       ah thank you usually i just see it as a load o...      1\n",
              "2       lol somebody in my town thought that day was a...      1\n",
              "3       i really appreciate this post the activism and...      1\n",
              "4                                donate to my mom lol  xb      1\n",
              "...                                                   ...    ...\n",
              "239516  from a buick  is hands down my favorite king n...      0\n",
              "239517               yes the illustrations were so creepy      0\n",
              "239518   hell no but i will end up watching it regardless      0\n",
              "239519  i think its super underrated many king fans ha...      0\n",
              "239520  not so sure of my self after seeing that comme...      0\n",
              "\n",
              "[239521 rows x 2 columns]"
            ]
          },
          "metadata": {
            "tags": []
          },
          "execution_count": 55
        }
      ]
    },
    {
      "cell_type": "code",
      "metadata": {
        "id": "ISbeYR0NdIky",
        "colab_type": "code",
        "outputId": "95b926ee-d97d-436e-d308-8a6c97e8e27f",
        "colab": {
          "base_uri": "https://localhost:8080/",
          "height": 419
        }
      },
      "source": [
        "df = shuffle(df).reset_index(drop=True)\n",
        "df"
      ],
      "execution_count": 0,
      "outputs": [
        {
          "output_type": "execute_result",
          "data": {
            "text/html": [
              "<div>\n",
              "<style scoped>\n",
              "    .dataframe tbody tr th:only-of-type {\n",
              "        vertical-align: middle;\n",
              "    }\n",
              "\n",
              "    .dataframe tbody tr th {\n",
              "        vertical-align: top;\n",
              "    }\n",
              "\n",
              "    .dataframe thead th {\n",
              "        text-align: right;\n",
              "    }\n",
              "</style>\n",
              "<table border=\"1\" class=\"dataframe\">\n",
              "  <thead>\n",
              "    <tr style=\"text-align: right;\">\n",
              "      <th></th>\n",
              "      <th>text</th>\n",
              "      <th>label</th>\n",
              "    </tr>\n",
              "  </thead>\n",
              "  <tbody>\n",
              "    <tr>\n",
              "      <th>0</th>\n",
              "      <td>died by suicide im happily married but i think...</td>\n",
              "      <td>0</td>\n",
              "    </tr>\n",
              "    <tr>\n",
              "      <th>1</th>\n",
              "      <td>tied between arcanine and ninetails maybe im a...</td>\n",
              "      <td>0</td>\n",
              "    </tr>\n",
              "    <tr>\n",
              "      <th>2</th>\n",
              "      <td>has anyone broken this cycle i hate this feeli...</td>\n",
              "      <td>1</td>\n",
              "    </tr>\n",
              "    <tr>\n",
              "      <th>3</th>\n",
              "      <td>this has  upvotes and  votes atm and not a sin...</td>\n",
              "      <td>1</td>\n",
              "    </tr>\n",
              "    <tr>\n",
              "      <th>4</th>\n",
              "      <td>multiple times a day i want to talk to people ...</td>\n",
              "      <td>1</td>\n",
              "    </tr>\n",
              "    <tr>\n",
              "      <th>...</th>\n",
              "      <td>...</td>\n",
              "      <td>...</td>\n",
              "    </tr>\n",
              "    <tr>\n",
              "      <th>239516</th>\n",
              "      <td>enjoying the companionship of an animal to hav...</td>\n",
              "      <td>0</td>\n",
              "    </tr>\n",
              "    <tr>\n",
              "      <th>239517</th>\n",
              "      <td>wow totally understand stuck</td>\n",
              "      <td>1</td>\n",
              "    </tr>\n",
              "    <tr>\n",
              "      <th>239518</th>\n",
              "      <td>hold up</td>\n",
              "      <td>0</td>\n",
              "    </tr>\n",
              "    <tr>\n",
              "      <th>239519</th>\n",
              "      <td>i used to listen to my headphones really loudl...</td>\n",
              "      <td>0</td>\n",
              "    </tr>\n",
              "    <tr>\n",
              "      <th>239520</th>\n",
              "      <td>haha its clearly working for you wish i had th...</td>\n",
              "      <td>1</td>\n",
              "    </tr>\n",
              "  </tbody>\n",
              "</table>\n",
              "<p>239521 rows × 2 columns</p>\n",
              "</div>"
            ],
            "text/plain": [
              "                                                     text  label\n",
              "0       died by suicide im happily married but i think...      0\n",
              "1       tied between arcanine and ninetails maybe im a...      0\n",
              "2       has anyone broken this cycle i hate this feeli...      1\n",
              "3       this has  upvotes and  votes atm and not a sin...      1\n",
              "4       multiple times a day i want to talk to people ...      1\n",
              "...                                                   ...    ...\n",
              "239516  enjoying the companionship of an animal to hav...      0\n",
              "239517                       wow totally understand stuck      1\n",
              "239518                                            hold up      0\n",
              "239519  i used to listen to my headphones really loudl...      0\n",
              "239520  haha its clearly working for you wish i had th...      1\n",
              "\n",
              "[239521 rows x 2 columns]"
            ]
          },
          "metadata": {
            "tags": []
          },
          "execution_count": 56
        }
      ]
    },
    {
      "cell_type": "code",
      "metadata": {
        "id": "_1ab0xO0dIk4",
        "colab_type": "code",
        "colab": {}
      },
      "source": [
        "vectorizer = TfidfVectorizer(min_df=2,norm='l2')"
      ],
      "execution_count": 0,
      "outputs": []
    },
    {
      "cell_type": "code",
      "metadata": {
        "id": "RUPfiTw8dIk7",
        "colab_type": "code",
        "colab": {}
      },
      "source": [
        "xy, test = train_test_split(df, test_size=0.2)\n",
        "train, dev = train_test_split(xy, test_size=0.25)"
      ],
      "execution_count": 0,
      "outputs": []
    },
    {
      "cell_type": "code",
      "metadata": {
        "id": "GFzAL1bddIk_",
        "colab_type": "code",
        "outputId": "617aadea-000f-446a-a065-ef353fba9985",
        "colab": {
          "base_uri": "https://localhost:8080/",
          "height": 68
        }
      },
      "source": [
        "print(len(train))\n",
        "print(len(dev))\n",
        "print(len(test))"
      ],
      "execution_count": 0,
      "outputs": [
        {
          "output_type": "stream",
          "text": [
            "143712\n",
            "47904\n",
            "47905\n"
          ],
          "name": "stdout"
        }
      ]
    },
    {
      "cell_type": "code",
      "metadata": {
        "id": "j9Tgc29tdIlD",
        "colab_type": "code",
        "outputId": "c7e1bbac-c738-4768-94af-7587a417652c",
        "colab": {
          "base_uri": "https://localhost:8080/",
          "height": 419
        }
      },
      "source": [
        "train"
      ],
      "execution_count": 0,
      "outputs": [
        {
          "output_type": "execute_result",
          "data": {
            "text/html": [
              "<div>\n",
              "<style scoped>\n",
              "    .dataframe tbody tr th:only-of-type {\n",
              "        vertical-align: middle;\n",
              "    }\n",
              "\n",
              "    .dataframe tbody tr th {\n",
              "        vertical-align: top;\n",
              "    }\n",
              "\n",
              "    .dataframe thead th {\n",
              "        text-align: right;\n",
              "    }\n",
              "</style>\n",
              "<table border=\"1\" class=\"dataframe\">\n",
              "  <thead>\n",
              "    <tr style=\"text-align: right;\">\n",
              "      <th></th>\n",
              "      <th>text</th>\n",
              "      <th>label</th>\n",
              "    </tr>\n",
              "  </thead>\n",
              "  <tbody>\n",
              "    <tr>\n",
              "      <th>145622</th>\n",
              "      <td>even if it has to believe at times mankind is ...</td>\n",
              "      <td>0</td>\n",
              "    </tr>\n",
              "    <tr>\n",
              "      <th>226313</th>\n",
              "      <td>okay that was kinda creepy because all three a...</td>\n",
              "      <td>1</td>\n",
              "    </tr>\n",
              "    <tr>\n",
              "      <th>86695</th>\n",
              "      <td>nothing i wish i were in the next life</td>\n",
              "      <td>0</td>\n",
              "    </tr>\n",
              "    <tr>\n",
              "      <th>194454</th>\n",
              "      <td>diamond rio</td>\n",
              "      <td>0</td>\n",
              "    </tr>\n",
              "    <tr>\n",
              "      <th>147259</th>\n",
              "      <td>youre taking a fair bit of issue with a simple...</td>\n",
              "      <td>0</td>\n",
              "    </tr>\n",
              "    <tr>\n",
              "      <th>...</th>\n",
              "      <td>...</td>\n",
              "      <td>...</td>\n",
              "    </tr>\n",
              "    <tr>\n",
              "      <th>88351</th>\n",
              "      <td>nobodys said it yet so happy birthday</td>\n",
              "      <td>1</td>\n",
              "    </tr>\n",
              "    <tr>\n",
              "      <th>744</th>\n",
              "      <td>having money</td>\n",
              "      <td>0</td>\n",
              "    </tr>\n",
              "    <tr>\n",
              "      <th>68453</th>\n",
              "      <td>female  similar re finances</td>\n",
              "      <td>1</td>\n",
              "    </tr>\n",
              "    <tr>\n",
              "      <th>37109</th>\n",
              "      <td>converting motorcycles</td>\n",
              "      <td>0</td>\n",
              "    </tr>\n",
              "    <tr>\n",
              "      <th>145948</th>\n",
              "      <td>no but this reminds me of a powerful experienc...</td>\n",
              "      <td>1</td>\n",
              "    </tr>\n",
              "  </tbody>\n",
              "</table>\n",
              "<p>143712 rows × 2 columns</p>\n",
              "</div>"
            ],
            "text/plain": [
              "                                                     text  label\n",
              "145622  even if it has to believe at times mankind is ...      0\n",
              "226313  okay that was kinda creepy because all three a...      1\n",
              "86695              nothing i wish i were in the next life      0\n",
              "194454                                        diamond rio      0\n",
              "147259  youre taking a fair bit of issue with a simple...      0\n",
              "...                                                   ...    ...\n",
              "88351               nobodys said it yet so happy birthday      1\n",
              "744                                          having money      0\n",
              "68453                         female  similar re finances      1\n",
              "37109                              converting motorcycles      0\n",
              "145948  no but this reminds me of a powerful experienc...      1\n",
              "\n",
              "[143712 rows x 2 columns]"
            ]
          },
          "metadata": {
            "tags": []
          },
          "execution_count": 60
        }
      ]
    },
    {
      "cell_type": "code",
      "metadata": {
        "id": "RjIZGoeddIlI",
        "colab_type": "code",
        "outputId": "f744deb4-41a8-46cd-c0b1-18bba509e5e2",
        "colab": {
          "base_uri": "https://localhost:8080/",
          "height": 419
        }
      },
      "source": [
        "test"
      ],
      "execution_count": 0,
      "outputs": [
        {
          "output_type": "execute_result",
          "data": {
            "text/html": [
              "<div>\n",
              "<style scoped>\n",
              "    .dataframe tbody tr th:only-of-type {\n",
              "        vertical-align: middle;\n",
              "    }\n",
              "\n",
              "    .dataframe tbody tr th {\n",
              "        vertical-align: top;\n",
              "    }\n",
              "\n",
              "    .dataframe thead th {\n",
              "        text-align: right;\n",
              "    }\n",
              "</style>\n",
              "<table border=\"1\" class=\"dataframe\">\n",
              "  <thead>\n",
              "    <tr style=\"text-align: right;\">\n",
              "      <th></th>\n",
              "      <th>text</th>\n",
              "      <th>label</th>\n",
              "    </tr>\n",
              "  </thead>\n",
              "  <tbody>\n",
              "    <tr>\n",
              "      <th>141896</th>\n",
              "      <td>death by a thousand cuts is a oriental one the...</td>\n",
              "      <td>0</td>\n",
              "    </tr>\n",
              "    <tr>\n",
              "      <th>88064</th>\n",
              "      <td>im constantly going through my social media pa...</td>\n",
              "      <td>0</td>\n",
              "    </tr>\n",
              "    <tr>\n",
              "      <th>232276</th>\n",
              "      <td>i didnt say that i knew i would be ok im just ...</td>\n",
              "      <td>0</td>\n",
              "    </tr>\n",
              "    <tr>\n",
              "      <th>110734</th>\n",
              "      <td>this you httpswwwredditcomtifucommentsaqcztifu...</td>\n",
              "      <td>0</td>\n",
              "    </tr>\n",
              "    <tr>\n",
              "      <th>117344</th>\n",
              "      <td>same here</td>\n",
              "      <td>1</td>\n",
              "    </tr>\n",
              "    <tr>\n",
              "      <th>...</th>\n",
              "      <td>...</td>\n",
              "      <td>...</td>\n",
              "    </tr>\n",
              "    <tr>\n",
              "      <th>109560</th>\n",
              "      <td>haha i have not just googld it and sure will w...</td>\n",
              "      <td>0</td>\n",
              "    </tr>\n",
              "    <tr>\n",
              "      <th>131911</th>\n",
              "      <td>exact same situation here dropped out and chan...</td>\n",
              "      <td>1</td>\n",
              "    </tr>\n",
              "    <tr>\n",
              "      <th>147345</th>\n",
              "      <td>o o f</td>\n",
              "      <td>0</td>\n",
              "    </tr>\n",
              "    <tr>\n",
              "      <th>16631</th>\n",
              "      <td>i forgot about it i was  yrs old my bother set...</td>\n",
              "      <td>1</td>\n",
              "    </tr>\n",
              "    <tr>\n",
              "      <th>228619</th>\n",
              "      <td>are you getting enough sleep  i know how that ...</td>\n",
              "      <td>1</td>\n",
              "    </tr>\n",
              "  </tbody>\n",
              "</table>\n",
              "<p>47905 rows × 2 columns</p>\n",
              "</div>"
            ],
            "text/plain": [
              "                                                     text  label\n",
              "141896  death by a thousand cuts is a oriental one the...      0\n",
              "88064   im constantly going through my social media pa...      0\n",
              "232276  i didnt say that i knew i would be ok im just ...      0\n",
              "110734  this you httpswwwredditcomtifucommentsaqcztifu...      0\n",
              "117344                                          same here      1\n",
              "...                                                   ...    ...\n",
              "109560  haha i have not just googld it and sure will w...      0\n",
              "131911  exact same situation here dropped out and chan...      1\n",
              "147345                                              o o f      0\n",
              "16631   i forgot about it i was  yrs old my bother set...      1\n",
              "228619  are you getting enough sleep  i know how that ...      1\n",
              "\n",
              "[47905 rows x 2 columns]"
            ]
          },
          "metadata": {
            "tags": []
          },
          "execution_count": 61
        }
      ]
    },
    {
      "cell_type": "code",
      "metadata": {
        "id": "GdnvozZLdIlM",
        "colab_type": "code",
        "colab": {}
      },
      "source": [
        "X_train = train['text']\n",
        "y_train = train['label']\n",
        "X_dev = dev['text']\n",
        "y_dev = dev['label']\n",
        "X_test = test['text']\n",
        "y_test = test['label']"
      ],
      "execution_count": 0,
      "outputs": []
    },
    {
      "cell_type": "code",
      "metadata": {
        "id": "-b_lL2hTdIlP",
        "colab_type": "code",
        "colab": {}
      },
      "source": [
        "Xv_train = vectorizer.fit_transform(X_train)\n",
        "Xv_dev = vectorizer.transform(X_dev)\n",
        "Xv_test = vectorizer.transform(X_test)\n",
        "from sklearn.metrics import confusion_matrix"
      ],
      "execution_count": 0,
      "outputs": []
    },
    {
      "cell_type": "code",
      "metadata": {
        "id": "Mg_4nKuVdIlT",
        "colab_type": "code",
        "outputId": "4130e4af-5257-4bee-ece0-1ff5dfe06e25",
        "colab": {
          "base_uri": "https://localhost:8080/",
          "height": 1000
        }
      },
      "source": [
        "C_param = [0.1,0.25,0.3,0.4,0.5,1,10,100]\n",
        "for c in C_param:\n",
        "    print(\"=============================================\")\n",
        "    print(\"C: \", c)\n",
        "    lr = LogisticRegression(C=c)\n",
        "    lr.fit(Xv_train, y_train)\n",
        "    preds = lr.predict(Xv_dev)\n",
        "    print(\"Accuracy \", metrics.accuracy_score(y_dev, preds))\n",
        "    print(\"Precision \", metrics.precision_score(y_dev, preds))\n",
        "    print(\"Recall \", metrics.recall_score(y_dev, preds))\n",
        "    print(\"F1 score \", metrics.f1_score(y_dev, preds))\n",
        "    print(metrics.classification_report(y_dev, preds))\n",
        "    print(confusion_matrix(y_dev, preds))\n"
      ],
      "execution_count": 0,
      "outputs": [
        {
          "output_type": "stream",
          "text": [
            "=============================================\n",
            "C:  0.1\n",
            "Accuracy  0.8288034402137608\n",
            "Precision  0.850167191188041\n",
            "Recall  0.7703515572784387\n",
            "F1 score  0.8082937890086258\n",
            "              precision    recall  f1-score   support\n",
            "\n",
            "           0       0.81      0.88      0.85     25461\n",
            "           1       0.85      0.77      0.81     22443\n",
            "\n",
            "    accuracy                           0.83     47904\n",
            "   macro avg       0.83      0.83      0.83     47904\n",
            "weighted avg       0.83      0.83      0.83     47904\n",
            "\n",
            "[[22414  3047]\n",
            " [ 5154 17289]]\n",
            "=============================================\n",
            "C:  0.25\n",
            "Accuracy  0.8381346025384101\n",
            "Precision  0.8540029883838627\n",
            "Recall  0.7894666488437375\n",
            "F1 score  0.8204677008566799\n",
            "              precision    recall  f1-score   support\n",
            "\n",
            "           0       0.83      0.88      0.85     25461\n",
            "           1       0.85      0.79      0.82     22443\n",
            "\n",
            "    accuracy                           0.84     47904\n",
            "   macro avg       0.84      0.84      0.84     47904\n",
            "weighted avg       0.84      0.84      0.84     47904\n",
            "\n",
            "[[22432  3029]\n",
            " [ 4725 17718]]\n",
            "=============================================\n",
            "C:  0.3\n",
            "Accuracy  0.8398254843019372\n",
            "Precision  0.8546729420804918\n",
            "Recall  0.7929421200374281\n",
            "F1 score  0.8226511036634693\n",
            "              precision    recall  f1-score   support\n",
            "\n",
            "           0       0.83      0.88      0.85     25461\n",
            "           1       0.85      0.79      0.82     22443\n",
            "\n",
            "    accuracy                           0.84     47904\n",
            "   macro avg       0.84      0.84      0.84     47904\n",
            "weighted avg       0.84      0.84      0.84     47904\n",
            "\n",
            "[[22435  3026]\n",
            " [ 4647 17796]]\n",
            "=============================================\n",
            "C:  0.4\n",
            "Accuracy  0.8417459919839679\n",
            "Precision  0.8554141955232447\n",
            "Recall  0.7969077217840752\n",
            "F1 score  0.8251251412885516\n",
            "              precision    recall  f1-score   support\n",
            "\n",
            "           0       0.83      0.88      0.86     25461\n",
            "           1       0.86      0.80      0.83     22443\n",
            "\n",
            "    accuracy                           0.84     47904\n",
            "   macro avg       0.84      0.84      0.84     47904\n",
            "weighted avg       0.84      0.84      0.84     47904\n",
            "\n",
            "[[22438  3023]\n",
            " [ 4558 17885]]\n",
            "=============================================\n",
            "C:  0.5\n",
            "Accuracy  0.8429358717434869\n",
            "Precision  0.8555359611076688\n",
            "Recall  0.7998039477788175\n",
            "F1 score  0.8267317612380252\n",
            "              precision    recall  f1-score   support\n",
            "\n",
            "           0       0.83      0.88      0.86     25461\n",
            "           1       0.86      0.80      0.83     22443\n",
            "\n",
            "    accuracy                           0.84     47904\n",
            "   macro avg       0.84      0.84      0.84     47904\n",
            "weighted avg       0.84      0.84      0.84     47904\n",
            "\n",
            "[[22430  3031]\n",
            " [ 4493 17950]]\n",
            "=============================================\n",
            "C:  1\n"
          ],
          "name": "stdout"
        },
        {
          "output_type": "stream",
          "text": [
            "/usr/local/lib/python3.6/dist-packages/sklearn/linear_model/_logistic.py:940: ConvergenceWarning: lbfgs failed to converge (status=1):\n",
            "STOP: TOTAL NO. of ITERATIONS REACHED LIMIT.\n",
            "\n",
            "Increase the number of iterations (max_iter) or scale the data as shown in:\n",
            "    https://scikit-learn.org/stable/modules/preprocessing.html\n",
            "Please also refer to the documentation for alternative solver options:\n",
            "    https://scikit-learn.org/stable/modules/linear_model.html#logistic-regression\n",
            "  extra_warning_msg=_LOGISTIC_SOLVER_CONVERGENCE_MSG)\n"
          ],
          "name": "stderr"
        },
        {
          "output_type": "stream",
          "text": [
            "Accuracy  0.8473405143620575\n",
            "Precision  0.8556987022757194\n",
            "Recall  0.81089872120483\n",
            "F1 score  0.832696575232779\n",
            "              precision    recall  f1-score   support\n",
            "\n",
            "           0       0.84      0.88      0.86     25461\n",
            "           1       0.86      0.81      0.83     22443\n",
            "\n",
            "    accuracy                           0.85     47904\n",
            "   macro avg       0.85      0.85      0.85     47904\n",
            "weighted avg       0.85      0.85      0.85     47904\n",
            "\n",
            "[[22392  3069]\n",
            " [ 4244 18199]]\n",
            "=============================================\n",
            "C:  10\n"
          ],
          "name": "stdout"
        },
        {
          "output_type": "stream",
          "text": [
            "/usr/local/lib/python3.6/dist-packages/sklearn/linear_model/_logistic.py:940: ConvergenceWarning: lbfgs failed to converge (status=1):\n",
            "STOP: TOTAL NO. of ITERATIONS REACHED LIMIT.\n",
            "\n",
            "Increase the number of iterations (max_iter) or scale the data as shown in:\n",
            "    https://scikit-learn.org/stable/modules/preprocessing.html\n",
            "Please also refer to the documentation for alternative solver options:\n",
            "    https://scikit-learn.org/stable/modules/linear_model.html#logistic-regression\n",
            "  extra_warning_msg=_LOGISTIC_SOLVER_CONVERGENCE_MSG)\n"
          ],
          "name": "stderr"
        },
        {
          "output_type": "stream",
          "text": [
            "Accuracy  0.8481128924515698\n",
            "Precision  0.8452538128841338\n",
            "Recall  0.8272512587443747\n",
            "F1 score  0.8361556476310574\n",
            "              precision    recall  f1-score   support\n",
            "\n",
            "           0       0.85      0.87      0.86     25461\n",
            "           1       0.85      0.83      0.84     22443\n",
            "\n",
            "    accuracy                           0.85     47904\n",
            "   macro avg       0.85      0.85      0.85     47904\n",
            "weighted avg       0.85      0.85      0.85     47904\n",
            "\n",
            "[[22062  3399]\n",
            " [ 3877 18566]]\n",
            "=============================================\n",
            "C:  100\n"
          ],
          "name": "stdout"
        },
        {
          "output_type": "stream",
          "text": [
            "/usr/local/lib/python3.6/dist-packages/sklearn/linear_model/_logistic.py:940: ConvergenceWarning: lbfgs failed to converge (status=1):\n",
            "STOP: TOTAL NO. of ITERATIONS REACHED LIMIT.\n",
            "\n",
            "Increase the number of iterations (max_iter) or scale the data as shown in:\n",
            "    https://scikit-learn.org/stable/modules/preprocessing.html\n",
            "Please also refer to the documentation for alternative solver options:\n",
            "    https://scikit-learn.org/stable/modules/linear_model.html#logistic-regression\n",
            "  extra_warning_msg=_LOGISTIC_SOLVER_CONVERGENCE_MSG)\n"
          ],
          "name": "stderr"
        },
        {
          "output_type": "stream",
          "text": [
            "Accuracy  0.8380511022044088\n",
            "Precision  0.8298665708252841\n",
            "Recall  0.8230628703827474\n",
            "F1 score  0.8264507180886761\n",
            "              precision    recall  f1-score   support\n",
            "\n",
            "           0       0.85      0.85      0.85     25461\n",
            "           1       0.83      0.82      0.83     22443\n",
            "\n",
            "    accuracy                           0.84     47904\n",
            "   macro avg       0.84      0.84      0.84     47904\n",
            "weighted avg       0.84      0.84      0.84     47904\n",
            "\n",
            "[[21674  3787]\n",
            " [ 3971 18472]]\n"
          ],
          "name": "stdout"
        }
      ]
    },
    {
      "cell_type": "code",
      "metadata": {
        "id": "-tqGeouDdIlX",
        "colab_type": "code",
        "outputId": "236656de-1f94-4970-c530-28a21739be97",
        "colab": {
          "base_uri": "https://localhost:8080/",
          "height": 1000
        }
      },
      "source": [
        "\n",
        "C_param = [0.1,0.25,0.3,0.4,0.5,1,10,100]\n",
        "for c in C_param:\n",
        "    print(\"=======================================================\")\n",
        "    print(\"C: \", c)\n",
        "    model = svm.LinearSVC(C=c)\n",
        "    model.fit(Xv_train, y_train)\n",
        "    preds = model.predict(Xv_dev)\n",
        "    print(\"Acc \", metrics.accuracy_score(y_dev, preds))\n",
        "    print(\"Precision \", metrics.precision_score(y_dev, preds))\n",
        "    print(\"Recall \", metrics.recall_score(y_dev, preds))\n",
        "    print(\"F1 score \", metrics.f1_score(y_dev, preds))\n",
        "    print(metrics.classification_report(y_dev, preds))\n",
        "    print(confusion_matrix(y_dev, preds))"
      ],
      "execution_count": 0,
      "outputs": [
        {
          "output_type": "stream",
          "text": [
            "=======================================================\n",
            "C:  0.1\n",
            "Acc  0.8472152638610554\n",
            "Precision  0.8572710951526032\n",
            "Recall  0.8084926257630441\n",
            "F1 score  0.8321676718108648\n",
            "              precision    recall  f1-score   support\n",
            "\n",
            "           0       0.84      0.88      0.86     25461\n",
            "           1       0.86      0.81      0.83     22443\n",
            "\n",
            "    accuracy                           0.85     47904\n",
            "   macro avg       0.85      0.84      0.85     47904\n",
            "weighted avg       0.85      0.85      0.85     47904\n",
            "\n",
            "[[22440  3021]\n",
            " [ 4298 18145]]\n",
            "=======================================================\n",
            "C:  0.25\n",
            "Acc  0.8496576486305946\n",
            "Precision  0.8536687241843413\n",
            "Recall  0.8195873991890568\n",
            "F1 score  0.8362809729483974\n",
            "              precision    recall  f1-score   support\n",
            "\n",
            "           0       0.85      0.88      0.86     25461\n",
            "           1       0.85      0.82      0.84     22443\n",
            "\n",
            "    accuracy                           0.85     47904\n",
            "   macro avg       0.85      0.85      0.85     47904\n",
            "weighted avg       0.85      0.85      0.85     47904\n",
            "\n",
            "[[22308  3153]\n",
            " [ 4049 18394]]\n",
            "=======================================================\n",
            "C:  0.3\n",
            "Acc  0.8492818971275885\n",
            "Precision  0.8522374936369106\n",
            "Recall  0.8205676602949695\n",
            "F1 score  0.8361027876146373\n",
            "              precision    recall  f1-score   support\n",
            "\n",
            "           0       0.85      0.87      0.86     25461\n",
            "           1       0.85      0.82      0.84     22443\n",
            "\n",
            "    accuracy                           0.85     47904\n",
            "   macro avg       0.85      0.85      0.85     47904\n",
            "weighted avg       0.85      0.85      0.85     47904\n",
            "\n",
            "[[22268  3193]\n",
            " [ 4027 18416]]\n",
            "=======================================================\n",
            "C:  0.4\n",
            "Acc  0.8498872745490982\n",
            "Precision  0.8514285714285714\n",
            "Recall  0.8232410996747316\n",
            "F1 score  0.8370976145708267\n",
            "              precision    recall  f1-score   support\n",
            "\n",
            "           0       0.85      0.87      0.86     25461\n",
            "           1       0.85      0.82      0.84     22443\n",
            "\n",
            "    accuracy                           0.85     47904\n",
            "   macro avg       0.85      0.85      0.85     47904\n",
            "weighted avg       0.85      0.85      0.85     47904\n",
            "\n",
            "[[22237  3224]\n",
            " [ 3967 18476]]\n",
            "=======================================================\n",
            "C:  0.5\n",
            "Acc  0.8499916499665998\n",
            "Precision  0.8502364446076855\n",
            "Recall  0.825157064563561\n",
            "F1 score  0.837509044862518\n",
            "              precision    recall  f1-score   support\n",
            "\n",
            "           0       0.85      0.87      0.86     25461\n",
            "           1       0.85      0.83      0.84     22443\n",
            "\n",
            "    accuracy                           0.85     47904\n",
            "   macro avg       0.85      0.85      0.85     47904\n",
            "weighted avg       0.85      0.85      0.85     47904\n",
            "\n",
            "[[22199  3262]\n",
            " [ 3924 18519]]\n",
            "=======================================================\n",
            "C:  1\n",
            "Acc  0.8471108884435538\n",
            "Precision  0.8430989878818136\n",
            "Recall  0.827696831974335\n",
            "F1 score  0.8353269178882993\n",
            "              precision    recall  f1-score   support\n",
            "\n",
            "           0       0.85      0.86      0.86     25461\n",
            "           1       0.84      0.83      0.84     22443\n",
            "\n",
            "    accuracy                           0.85     47904\n",
            "   macro avg       0.85      0.85      0.85     47904\n",
            "weighted avg       0.85      0.85      0.85     47904\n",
            "\n",
            "[[22004  3457]\n",
            " [ 3867 18576]]\n",
            "=======================================================\n",
            "C:  10\n",
            "Acc  0.8301603206412825\n",
            "Precision  0.8163725620273319\n",
            "Recall  0.8224836251837989\n",
            "F1 score  0.8194166999600481\n",
            "              precision    recall  f1-score   support\n",
            "\n",
            "           0       0.84      0.84      0.84     25461\n",
            "           1       0.82      0.82      0.82     22443\n",
            "\n",
            "    accuracy                           0.83     47904\n",
            "   macro avg       0.83      0.83      0.83     47904\n",
            "weighted avg       0.83      0.83      0.83     47904\n",
            "\n",
            "[[21309  4152]\n",
            " [ 3984 18459]]\n",
            "=======================================================\n",
            "C:  100\n"
          ],
          "name": "stdout"
        },
        {
          "output_type": "stream",
          "text": [
            "/usr/local/lib/python3.6/dist-packages/sklearn/svm/_base.py:947: ConvergenceWarning: Liblinear failed to converge, increase the number of iterations.\n",
            "  \"the number of iterations.\", ConvergenceWarning)\n"
          ],
          "name": "stderr"
        },
        {
          "output_type": "stream",
          "text": [
            "Acc  0.8157565130260521\n",
            "Precision  0.7891942403262117\n",
            "Recall  0.8278750612663192\n",
            "F1 score  0.8080720219197148\n",
            "              precision    recall  f1-score   support\n",
            "\n",
            "           0       0.84      0.81      0.82     25461\n",
            "           1       0.79      0.83      0.81     22443\n",
            "\n",
            "    accuracy                           0.82     47904\n",
            "   macro avg       0.82      0.82      0.82     47904\n",
            "weighted avg       0.82      0.82      0.82     47904\n",
            "\n",
            "[[20498  4963]\n",
            " [ 3863 18580]]\n"
          ],
          "name": "stdout"
        }
      ]
    },
    {
      "cell_type": "code",
      "metadata": {
        "id": "gPvU5lrDdIlb",
        "colab_type": "code",
        "outputId": "3cae8b67-ed77-41dd-ff7e-233a56525654",
        "colab": {
          "base_uri": "https://localhost:8080/",
          "height": 408
        }
      },
      "source": [
        "lr = LogisticRegression(C=1)\n",
        "lr.fit(Xv_train, y_train)\n",
        "preds = lr.predict(Xv_test)\n",
        "print(\"Acc \", metrics.accuracy_score(y_test, preds))\n",
        "print(\"Precision \", metrics.precision_score(y_test, preds))\n",
        "print(\"Recall \", metrics.recall_score(y_test, preds))\n",
        "print(\"F1 score \", metrics.f1_score(y_test, preds))\n",
        "print(metrics.classification_report(y_test, preds))\n",
        "print(confusion_matrix(y_test, preds))\n"
      ],
      "execution_count": 0,
      "outputs": [
        {
          "output_type": "stream",
          "text": [
            "/usr/local/lib/python3.6/dist-packages/sklearn/linear_model/_logistic.py:940: ConvergenceWarning: lbfgs failed to converge (status=1):\n",
            "STOP: TOTAL NO. of ITERATIONS REACHED LIMIT.\n",
            "\n",
            "Increase the number of iterations (max_iter) or scale the data as shown in:\n",
            "    https://scikit-learn.org/stable/modules/preprocessing.html\n",
            "Please also refer to the documentation for alternative solver options:\n",
            "    https://scikit-learn.org/stable/modules/linear_model.html#logistic-regression\n",
            "  extra_warning_msg=_LOGISTIC_SOLVER_CONVERGENCE_MSG)\n"
          ],
          "name": "stderr"
        },
        {
          "output_type": "stream",
          "text": [
            "Acc  0.846863584177017\n",
            "Precision  0.8567406503683543\n",
            "Recall  0.8099906836431392\n",
            "F1 score  0.8327100246282952\n",
            "              precision    recall  f1-score   support\n",
            "\n",
            "           0       0.84      0.88      0.86     25364\n",
            "           1       0.86      0.81      0.83     22541\n",
            "\n",
            "    accuracy                           0.85     47905\n",
            "   macro avg       0.85      0.84      0.85     47905\n",
            "weighted avg       0.85      0.85      0.85     47905\n",
            "\n",
            "[[22311  3053]\n",
            " [ 4283 18258]]\n"
          ],
          "name": "stdout"
        }
      ]
    },
    {
      "cell_type": "code",
      "metadata": {
        "id": "UiRp1SrrdIlf",
        "colab_type": "code",
        "outputId": "ea3fe7ec-cac0-457a-c940-28be4f1f60cf",
        "colab": {
          "base_uri": "https://localhost:8080/",
          "height": 272
        }
      },
      "source": [
        "model = svm.LinearSVC(C=0.25)\n",
        "model.fit(Xv_train, y_train)\n",
        "preds = model.predict(Xv_test)\n",
        "print(\"Acc \", metrics.accuracy_score(y_test, preds))\n",
        "print(\"Precision \", metrics.precision_score(y_test, preds))\n",
        "print(\"Recall \", metrics.recall_score(y_test, preds))\n",
        "print(\"F1 score \", metrics.f1_score(y_test, preds))\n",
        "print(metrics.classification_report(y_test, preds))\n",
        "print(confusion_matrix(y_test, preds))\n"
      ],
      "execution_count": 0,
      "outputs": [
        {
          "output_type": "stream",
          "text": [
            "Acc  0.849932157394844\n",
            "Precision  0.8547790719171751\n",
            "Recall  0.8204604942105497\n",
            "F1 score  0.837268261765172\n",
            "              precision    recall  f1-score   support\n",
            "\n",
            "           0       0.85      0.88      0.86     25364\n",
            "           1       0.85      0.82      0.84     22541\n",
            "\n",
            "    accuracy                           0.85     47905\n",
            "   macro avg       0.85      0.85      0.85     47905\n",
            "weighted avg       0.85      0.85      0.85     47905\n",
            "\n",
            "[[22222  3142]\n",
            " [ 4047 18494]]\n"
          ],
          "name": "stdout"
        }
      ]
    },
    {
      "cell_type": "code",
      "metadata": {
        "id": "_MWCRsCQdIlj",
        "colab_type": "code",
        "outputId": "6f5734d3-5939-4b5a-80fe-6985830355b7",
        "colab": {
          "base_uri": "https://localhost:8080/",
          "height": 272
        }
      },
      "source": [
        "# gaussian kernel\n",
        "from sklearn.naive_bayes import MultinomialNB\n",
        "from sklearn.neighbors import KNeighborsClassifier\n",
        "model = MultinomialNB()\n",
        "model.fit(Xv_train,y_train)\n",
        "preds = model.predict(Xv_test)\n",
        "#printing the confusion  matrix\n",
        "print(\"Acc \", metrics.accuracy_score(y_test, preds))\n",
        "print(\"Precision \", metrics.precision_score(y_test, preds))\n",
        "print(\"Recall \", metrics.recall_score(y_test, preds))\n",
        "print(\"F1 score \", metrics.f1_score(y_test, preds))\n",
        "print(metrics.classification_report(y_test, preds))\n",
        "print(confusion_matrix(y_test, preds))"
      ],
      "execution_count": 0,
      "outputs": [
        {
          "output_type": "stream",
          "text": [
            "Acc  0.8286400166997182\n",
            "Precision  0.7828386485633091\n",
            "Recall  0.8799077237034737\n",
            "F1 score  0.8285397999039205\n",
            "              precision    recall  f1-score   support\n",
            "\n",
            "           0       0.88      0.78      0.83     25364\n",
            "           1       0.78      0.88      0.83     22541\n",
            "\n",
            "    accuracy                           0.83     47905\n",
            "   macro avg       0.83      0.83      0.83     47905\n",
            "weighted avg       0.83      0.83      0.83     47905\n",
            "\n",
            "[[19862  5502]\n",
            " [ 2707 19834]]\n"
          ],
          "name": "stdout"
        }
      ]
    },
    {
      "cell_type": "code",
      "metadata": {
        "id": "j7fxmInmdIlo",
        "colab_type": "code",
        "colab": {}
      },
      "source": [
        "import seaborn as sn\n",
        "import matplotlib.pyplot as plt"
      ],
      "execution_count": 0,
      "outputs": []
    },
    {
      "cell_type": "code",
      "metadata": {
        "id": "PGNEnjMIdIls",
        "colab_type": "code",
        "colab": {}
      },
      "source": [
        "cf2 =[[19911 , 5579],\n",
        " [ 2701, 19714]]"
      ],
      "execution_count": 0,
      "outputs": []
    },
    {
      "cell_type": "code",
      "metadata": {
        "id": "io9CSlRvdIlv",
        "colab_type": "code",
        "outputId": "29dfeecd-2164-4557-bad6-36dfe2bb98cc",
        "colab": {
          "base_uri": "https://localhost:8080/",
          "height": 255
        }
      },
      "source": [
        "df_cm = pd.DataFrame(cf2, index = [i for i in [\"Dep\",\"Non-Dep\"]],\n",
        "                  columns = [i for i in [\"Dep\",\"Non-Dep\"]])\n",
        "plt.figure(figsize = (5,3.5))\n",
        "sn.heatmap(df_cm, annot=True, cmap=\"Purples\")"
      ],
      "execution_count": 0,
      "outputs": [
        {
          "output_type": "execute_result",
          "data": {
            "text/plain": [
              "<matplotlib.axes._subplots.AxesSubplot at 0x7f64583f2b00>"
            ]
          },
          "metadata": {
            "tags": []
          },
          "execution_count": 71
        },
        {
          "output_type": "display_data",
          "data": {
            "image/png": "[encoded data removed]",
            "text/plain": [
              "<Figure size 360x252 with 2 Axes>"
            ]
          },
          "metadata": {
            "tags": [],
            "needs_background": "light"
          }
        }
      ]
    },
    {
      "cell_type": "code",
      "metadata": {
        "id": "uS8oHaI1MilG",
        "colab_type": "code",
        "outputId": "6feefb54-e316-4570-b3ad-82f97a58b23f",
        "colab": {
          "base_uri": "https://localhost:8080/",
          "height": 51
        }
      },
      "source": [
        "nltk.download(\"stopwords\")\n",
        "additional_stopwords = \"you that him to it her there etc know want one hey hi yep well really hello a like don't about above after again against all am an and any are aren't as at be because been before being below between both but by can't cannot could couldn't did didn't do does doesn't doing don't down during each few for from further had hadn't has hasn't have haven't having he he'd he'll he's her here here's hers herself him himself his how how's i i'd i'll i'm i've if in into is isn't it it's its itself let's me more most mustn't my myself no nor not of off on once only or other oughtour ours ourselves out over own same shan't she she'd she'll she's should shouldn't so some such than that that's the their theirs them themselves then there there's these they they'd they'll they're they've this those through to too under until up very was wasn't we we'd we'll we're we've were weren't what what's when when's where where's which while who who's whom why why's with won't would wouldn't you you'd you'll you're you've your yours yourself yourselves\"\n",
        "removing_words = 'beyondblue beyond blue tony wk tony geoff neil depression'\n",
        "englishstop = stopwords.words(\"english\")\n",
        "englishstop += additional_stopwords.split()\n",
        "englishstop += removing_words.split()\n",
        "nopunc = re.sub(\"'\",'',additional_stopwords)\n",
        "englishstop += nopunc.split()\n",
        "englishstop = set(englishstop)"
      ],
      "execution_count": 0,
      "outputs": [
        {
          "output_type": "stream",
          "text": [
            "[nltk_data] Downloading package stopwords to /root/nltk_data...\n",
            "[nltk_data]   Package stopwords is already up-to-date!\n"
          ],
          "name": "stdout"
        }
      ]
    },
    {
      "cell_type": "code",
      "metadata": {
        "id": "h37OsmMzITFX",
        "colab_type": "code",
        "colab": {}
      },
      "source": [
        "def avg_word(sentence):\n",
        "    words = sentence.split()\n",
        "    return (sum(len(word) for word in words)/len([words]))\n",
        "\n",
        "def pipeline(train1, whatstop):\n",
        "    train1['LINE_NUM'] = train1['TEXT'].apply(lambda x: str(x).count('\\n') - 2)\n",
        "    train1['WORD_COUNT'] = train1['TEXT'].apply(lambda x: len(str(x).split(\" \")))\n",
        "    train1['CHAR_COUNT'] = train1['TEXT'].str.len() ## this also includes spaces\n",
        "    train1['TEXT'] = train1['TEXT'].apply(lambda x: re.sub(r'\\n',' ',x))\n",
        "    train1['TEXT'] = train1['TEXT'].str.replace(r'\\s+',' ')\n",
        "    train1['TAG'] = train1['TEXT'].str.contains('@')\n",
        "    train1['STOPWORDS'] = train1['TEXT'].apply(lambda x: len([x for x in str(x).split() if x in whatstop]))\n",
        "    train1['HASHTAGS'] = train1['TEXT'].apply(lambda x: len([x for x in str(x).split() if x.startswith('#')]))\n",
        "    train1['UPPER'] = train1['TEXT'].apply(lambda x: len([x for x in str(x).split() if x.isupper()]))\n",
        "    train1['NUMERICS'] = train1['TEXT'].apply(lambda x: len([x for x in str(x).split() if x.isdigit()]))\n",
        "    #train1['AVG_WORDS_LEN'] = train1['TEXT'].apply(lambda x: avg_word(str(x)))\n",
        "    train1['AVG_WORDS_LEN'] = train1['CHAR_COUNT'] / train1['WORD_COUNT'] # including spaces\n",
        "    #lexical divercity\n",
        "    train1['LEXICAL_DIVER'] = train1['TEXT'].apply(lambda x: len(x) / len(set(x)) if len(set(x))>0 else 0 ) \n",
        "    return train1"
      ],
      "execution_count": 0,
      "outputs": []
    },
    {
      "cell_type": "code",
      "metadata": {
        "id": "v-_ovCd8Itts",
        "colab_type": "code",
        "colab": {}
      },
      "source": [
        "depressed_df.rename(columns={'text': \"TEXT\"}, inplace=True)"
      ],
      "execution_count": 0,
      "outputs": []
    },
    {
      "cell_type": "code",
      "metadata": {
        "id": "dbQZZwfiI5HT",
        "colab_type": "code",
        "colab": {}
      },
      "source": [
        "non_depressed_df.rename(columns={'text': \"TEXT\"}, inplace=True)"
      ],
      "execution_count": 0,
      "outputs": []
    },
    {
      "cell_type": "code",
      "metadata": {
        "id": "vVg-qPLPJVZA",
        "colab_type": "code",
        "outputId": "4c0f3aa5-e0c9-4e51-a252-b7840ca504ec",
        "colab": {
          "base_uri": "https://localhost:8080/",
          "height": 204
        }
      },
      "source": [
        "depressed_df.head()"
      ],
      "execution_count": 0,
      "outputs": [
        {
          "output_type": "execute_result",
          "data": {
            "text/html": [
              "<div>\n",
              "<style scoped>\n",
              "    .dataframe tbody tr th:only-of-type {\n",
              "        vertical-align: middle;\n",
              "    }\n",
              "\n",
              "    .dataframe tbody tr th {\n",
              "        vertical-align: top;\n",
              "    }\n",
              "\n",
              "    .dataframe thead th {\n",
              "        text-align: right;\n",
              "    }\n",
              "</style>\n",
              "<table border=\"1\" class=\"dataframe\">\n",
              "  <thead>\n",
              "    <tr style=\"text-align: right;\">\n",
              "      <th></th>\n",
              "      <th>TEXT</th>\n",
              "      <th>label</th>\n",
              "    </tr>\n",
              "  </thead>\n",
              "  <tbody>\n",
              "    <tr>\n",
              "      <th>0</th>\n",
              "      <td>sorry if im stupid but whats activism i dont w...</td>\n",
              "      <td>1</td>\n",
              "    </tr>\n",
              "    <tr>\n",
              "      <th>1</th>\n",
              "      <td>ah thank you usually i just see it as a load o...</td>\n",
              "      <td>1</td>\n",
              "    </tr>\n",
              "    <tr>\n",
              "      <th>2</th>\n",
              "      <td>lol somebody in my town thought that day was a...</td>\n",
              "      <td>1</td>\n",
              "    </tr>\n",
              "    <tr>\n",
              "      <th>3</th>\n",
              "      <td>i really appreciate this post the activism and...</td>\n",
              "      <td>1</td>\n",
              "    </tr>\n",
              "    <tr>\n",
              "      <th>4</th>\n",
              "      <td>donate to my mom lol  xb</td>\n",
              "      <td>1</td>\n",
              "    </tr>\n",
              "  </tbody>\n",
              "</table>\n",
              "</div>"
            ],
            "text/plain": [
              "                                                TEXT  label\n",
              "0  sorry if im stupid but whats activism i dont w...      1\n",
              "1  ah thank you usually i just see it as a load o...      1\n",
              "2  lol somebody in my town thought that day was a...      1\n",
              "3  i really appreciate this post the activism and...      1\n",
              "4                           donate to my mom lol  xb      1"
            ]
          },
          "metadata": {
            "tags": []
          },
          "execution_count": 77
        }
      ]
    },
    {
      "cell_type": "code",
      "metadata": {
        "id": "aUlHbkGEI-uw",
        "colab_type": "code",
        "colab": {}
      },
      "source": [
        "dep = pipeline(depressed_df, englishstop)"
      ],
      "execution_count": 0,
      "outputs": []
    },
    {
      "cell_type": "code",
      "metadata": {
        "id": "Le1iwUVGJKPI",
        "colab_type": "code",
        "colab": {}
      },
      "source": [
        "nondep = pipeline(non_depressed_df, englishstop)"
      ],
      "execution_count": 0,
      "outputs": []
    },
    {
      "cell_type": "code",
      "metadata": {
        "id": "dmO30e5SKKvb",
        "colab_type": "code",
        "outputId": "107910fd-ddfe-4fdd-b845-dc7fcb60bf36",
        "colab": {
          "base_uri": "https://localhost:8080/",
          "height": 272
        }
      },
      "source": [
        "dep.head()"
      ],
      "execution_count": 0,
      "outputs": [
        {
          "output_type": "execute_result",
          "data": {
            "text/html": [
              "<div>\n",
              "<style scoped>\n",
              "    .dataframe tbody tr th:only-of-type {\n",
              "        vertical-align: middle;\n",
              "    }\n",
              "\n",
              "    .dataframe tbody tr th {\n",
              "        vertical-align: top;\n",
              "    }\n",
              "\n",
              "    .dataframe thead th {\n",
              "        text-align: right;\n",
              "    }\n",
              "</style>\n",
              "<table border=\"1\" class=\"dataframe\">\n",
              "  <thead>\n",
              "    <tr style=\"text-align: right;\">\n",
              "      <th></th>\n",
              "      <th>TEXT</th>\n",
              "      <th>label</th>\n",
              "      <th>LINE_NUM</th>\n",
              "      <th>WORD_COUNT</th>\n",
              "      <th>CHAR_COUNT</th>\n",
              "      <th>TAG</th>\n",
              "      <th>STOPWORDS</th>\n",
              "      <th>HASHTAGS</th>\n",
              "      <th>UPPER</th>\n",
              "      <th>NUMERICS</th>\n",
              "      <th>AVG_WORDS_LEN</th>\n",
              "      <th>LEXICAL_DIVER</th>\n",
              "    </tr>\n",
              "  </thead>\n",
              "  <tbody>\n",
              "    <tr>\n",
              "      <th>0</th>\n",
              "      <td>sorry if im stupid but whats activism i dont w...</td>\n",
              "      <td>1</td>\n",
              "      <td>-2</td>\n",
              "      <td>15</td>\n",
              "      <td>81</td>\n",
              "      <td>False</td>\n",
              "      <td>9</td>\n",
              "      <td>0</td>\n",
              "      <td>0</td>\n",
              "      <td>0</td>\n",
              "      <td>5.400000</td>\n",
              "      <td>3.681818</td>\n",
              "    </tr>\n",
              "    <tr>\n",
              "      <th>1</th>\n",
              "      <td>ah thank you usually i just see it as a load o...</td>\n",
              "      <td>1</td>\n",
              "      <td>-2</td>\n",
              "      <td>60</td>\n",
              "      <td>314</td>\n",
              "      <td>False</td>\n",
              "      <td>30</td>\n",
              "      <td>0</td>\n",
              "      <td>0</td>\n",
              "      <td>0</td>\n",
              "      <td>5.233333</td>\n",
              "      <td>13.083333</td>\n",
              "    </tr>\n",
              "    <tr>\n",
              "      <th>2</th>\n",
              "      <td>lol somebody in my town thought that day was a...</td>\n",
              "      <td>1</td>\n",
              "      <td>-2</td>\n",
              "      <td>36</td>\n",
              "      <td>172</td>\n",
              "      <td>False</td>\n",
              "      <td>14</td>\n",
              "      <td>0</td>\n",
              "      <td>0</td>\n",
              "      <td>0</td>\n",
              "      <td>4.777778</td>\n",
              "      <td>7.347826</td>\n",
              "    </tr>\n",
              "    <tr>\n",
              "      <th>3</th>\n",
              "      <td>i really appreciate this post the activism and...</td>\n",
              "      <td>1</td>\n",
              "      <td>-2</td>\n",
              "      <td>24</td>\n",
              "      <td>135</td>\n",
              "      <td>False</td>\n",
              "      <td>15</td>\n",
              "      <td>0</td>\n",
              "      <td>0</td>\n",
              "      <td>0</td>\n",
              "      <td>5.625000</td>\n",
              "      <td>6.136364</td>\n",
              "    </tr>\n",
              "    <tr>\n",
              "      <th>4</th>\n",
              "      <td>donate to my mom lol xb</td>\n",
              "      <td>1</td>\n",
              "      <td>-2</td>\n",
              "      <td>7</td>\n",
              "      <td>24</td>\n",
              "      <td>False</td>\n",
              "      <td>2</td>\n",
              "      <td>0</td>\n",
              "      <td>0</td>\n",
              "      <td>0</td>\n",
              "      <td>3.428571</td>\n",
              "      <td>1.916667</td>\n",
              "    </tr>\n",
              "  </tbody>\n",
              "</table>\n",
              "</div>"
            ],
            "text/plain": [
              "                                                TEXT  ...  LEXICAL_DIVER\n",
              "0  sorry if im stupid but whats activism i dont w...  ...       3.681818\n",
              "1  ah thank you usually i just see it as a load o...  ...      13.083333\n",
              "2  lol somebody in my town thought that day was a...  ...       7.347826\n",
              "3  i really appreciate this post the activism and...  ...       6.136364\n",
              "4                            donate to my mom lol xb  ...       1.916667\n",
              "\n",
              "[5 rows x 12 columns]"
            ]
          },
          "metadata": {
            "tags": []
          },
          "execution_count": 80
        }
      ]
    },
    {
      "cell_type": "code",
      "metadata": {
        "id": "UEdcdMiGKNZo",
        "colab_type": "code",
        "outputId": "f2f9e3c8-ad6a-4696-a5ba-aed1c96b35a0",
        "colab": {
          "base_uri": "https://localhost:8080/",
          "height": 281
        }
      },
      "source": [
        "plt.hist(nondep['LEXICAL_DIVER'],label = 'undepressed',alpha = 0.3, bins=[0,5,10,20,30,40,50,75,100])\n",
        "plt.hist(dep['LEXICAL_DIVER'],label = 'depressed',alpha = 0.3, bins=[0,5,10,20,30,40,50,75,100])\n",
        "plt.title('LEXICAL DIVERSITY')\n",
        "plt.legend()\n",
        "plt.show()"
      ],
      "execution_count": 0,
      "outputs": [
        {
          "output_type": "display_data",
          "data": {
            "image/png": "[encoded data removed]",
            "text/plain": [
              "<Figure size 432x288 with 1 Axes>"
            ]
          },
          "metadata": {
            "tags": [],
            "needs_background": "light"
          }
        }
      ]
    },
    {
      "cell_type": "code",
      "metadata": {
        "id": "ucIiBKQ5KXVd",
        "colab_type": "code",
        "outputId": "9fe69646-4c80-4e10-8097-212a12c0eca5",
        "colab": {
          "base_uri": "https://localhost:8080/",
          "height": 281
        }
      },
      "source": [
        "plt.hist(nondep['WORD_COUNT'],label = 'undepressed',alpha = 0.3, bins=[0,5,10,20,50,100,200,300,500])\n",
        "plt.hist(dep['WORD_COUNT'],label = 'depressed',alpha = 0.3, bins=[0,5,10,20,50,100,200,300,500])\n",
        "plt.title('WORD COUNT')\n",
        "plt.legend()\n",
        "plt.show()"
      ],
      "execution_count": 0,
      "outputs": [
        {
          "output_type": "display_data",
          "data": {
            "image/png": "[encoded data removed]",
            "text/plain": [
              "<Figure size 432x288 with 1 Axes>"
            ]
          },
          "metadata": {
            "tags": [],
            "needs_background": "light"
          }
        }
      ]
    },
    {
      "cell_type": "code",
      "metadata": {
        "id": "gLxRW_xeLPa5",
        "colab_type": "code",
        "outputId": "a854482f-0c9f-4241-e9e0-0c957be69cbe",
        "colab": {
          "base_uri": "https://localhost:8080/",
          "height": 281
        }
      },
      "source": [
        "plt.hist(nondep['STOPWORDS'],label = 'undepressed',alpha = 0.3, bins=[0,5,10,20,50,75,100,150,200,250,300])\n",
        "plt.hist(dep['STOPWORDS'],label = 'depressed',alpha = 0.3, bins=[0,5,10,20,50,75,100,150,200,250,300])\n",
        "plt.title('STOPWORDS')\n",
        "plt.legend()\n",
        "plt.show()"
      ],
      "execution_count": 0,
      "outputs": [
        {
          "output_type": "display_data",
          "data": {
            "image/png": "[encoded data removed]",
            "text/plain": [
              "<Figure size 432x288 with 1 Axes>"
            ]
          },
          "metadata": {
            "tags": [],
            "needs_background": "light"
          }
        }
      ]
    },
    {
      "cell_type": "code",
      "metadata": {
        "id": "387d16LKLsMS",
        "colab_type": "code",
        "colab": {}
      },
      "source": [
        "def cleanpipe(train1,whatstop):\n",
        "    train1['WORKING_TEXT'] = train1['TEXT'].apply(lambda x: \" \".join(x.lower() for x in str(x).split()))\n",
        "    train1['WORKING_TEXT'] = train1['WORKING_TEXT'].str.replace(r'\\d+',' ')\n",
        "    train1['WORKING_TEXT'] = train1['WORKING_TEXT'].str.replace(r'[^\\w\\s]',' ')\n",
        "    train1['WORKING_TEXT'] = train1['WORKING_TEXT'].str.replace(r'\\s+',' ')\n",
        "    train1['WORKING_TEXT'] = train1['WORKING_TEXT'].apply(lambda x:\" \".join(x for x in x.split() if (x not in whatstop)))\n",
        "   \n",
        "    #removing links, and words under 2 chars\n",
        "    train1['WORKING_TEXT'] = train1['WORKING_TEXT'].apply(lambda x: \" \".join(x for x in x.split() if not(x.startswith('www'))))\n",
        "    train1['WORKING_TEXT'] = train1['WORKING_TEXT'].apply(lambda x: \" \".join(x for x in x.split() if not(x.startswith('http'))))                \n",
        "    train1['WORKING_TEXT'] = train1['WORKING_TEXT'].apply(lambda x: \" \".join(x for x in x.split() if not(len(x)< 2)))                \n",
        "\n",
        "    #removing posts less then 8 words\n",
        "    train1.drop(train1[train1['WORD_COUNT'] < 8].index,inplace = True)\n",
        "    \n",
        "    \n",
        "    train1 = train1.drop_duplicates(subset = 'WORKING_TEXT')\n",
        "    return train1\n",
        "\n",
        "\n",
        "def freqremovel(train1, freq):\n",
        "    train1['WORKING_TEXT'] = train1['WORKING_TEXT'].apply(lambda x: \" \".join(x for x in x.split() if x in freq))\n",
        "    return train1"
      ],
      "execution_count": 0,
      "outputs": []
    },
    {
      "cell_type": "code",
      "metadata": {
        "id": "iukeGuHNMVWZ",
        "colab_type": "code",
        "colab": {}
      },
      "source": [
        "dep = cleanpipe(dep,englishstop)\n",
        "nondep = cleanpipe(nondep,englishstop)"
      ],
      "execution_count": 0,
      "outputs": []
    },
    {
      "cell_type": "code",
      "metadata": {
        "id": "odovbPSZMdoC",
        "colab_type": "code",
        "outputId": "6b97844a-d736-4350-ab44-2bcb3fda316d",
        "colab": {
          "base_uri": "https://localhost:8080/",
          "height": 476
        }
      },
      "source": [
        "dep.head()"
      ],
      "execution_count": 0,
      "outputs": [
        {
          "output_type": "execute_result",
          "data": {
            "text/html": [
              "<div>\n",
              "<style scoped>\n",
              "    .dataframe tbody tr th:only-of-type {\n",
              "        vertical-align: middle;\n",
              "    }\n",
              "\n",
              "    .dataframe tbody tr th {\n",
              "        vertical-align: top;\n",
              "    }\n",
              "\n",
              "    .dataframe thead th {\n",
              "        text-align: right;\n",
              "    }\n",
              "</style>\n",
              "<table border=\"1\" class=\"dataframe\">\n",
              "  <thead>\n",
              "    <tr style=\"text-align: right;\">\n",
              "      <th></th>\n",
              "      <th>TEXT</th>\n",
              "      <th>label</th>\n",
              "      <th>LINE_NUM</th>\n",
              "      <th>WORD_COUNT</th>\n",
              "      <th>CHAR_COUNT</th>\n",
              "      <th>TAG</th>\n",
              "      <th>STOPWORDS</th>\n",
              "      <th>HASHTAGS</th>\n",
              "      <th>UPPER</th>\n",
              "      <th>NUMERICS</th>\n",
              "      <th>AVG_WORDS_LEN</th>\n",
              "      <th>LEXICAL_DIVER</th>\n",
              "      <th>WORKING_TEXT</th>\n",
              "    </tr>\n",
              "  </thead>\n",
              "  <tbody>\n",
              "    <tr>\n",
              "      <th>0</th>\n",
              "      <td>sorry if im stupid but whats activism i dont w...</td>\n",
              "      <td>1</td>\n",
              "      <td>-2</td>\n",
              "      <td>15</td>\n",
              "      <td>81</td>\n",
              "      <td>False</td>\n",
              "      <td>9</td>\n",
              "      <td>0</td>\n",
              "      <td>0</td>\n",
              "      <td>0</td>\n",
              "      <td>5.400000</td>\n",
              "      <td>3.681818</td>\n",
              "      <td>sorry stupid activism accidentally break rules</td>\n",
              "    </tr>\n",
              "    <tr>\n",
              "      <th>1</th>\n",
              "      <td>ah thank you usually i just see it as a load o...</td>\n",
              "      <td>1</td>\n",
              "      <td>-2</td>\n",
              "      <td>60</td>\n",
              "      <td>314</td>\n",
              "      <td>False</td>\n",
              "      <td>30</td>\n",
              "      <td>0</td>\n",
              "      <td>0</td>\n",
              "      <td>0</td>\n",
              "      <td>5.233333</td>\n",
              "      <td>13.083333</td>\n",
              "      <td>ah thank usually see load horsecrap people wan...</td>\n",
              "    </tr>\n",
              "    <tr>\n",
              "      <th>2</th>\n",
              "      <td>lol somebody in my town thought that day was a...</td>\n",
              "      <td>1</td>\n",
              "      <td>-2</td>\n",
              "      <td>36</td>\n",
              "      <td>172</td>\n",
              "      <td>False</td>\n",
              "      <td>14</td>\n",
              "      <td>0</td>\n",
              "      <td>0</td>\n",
              "      <td>0</td>\n",
              "      <td>4.777778</td>\n",
              "      <td>7.347826</td>\n",
              "      <td>lol somebody town thought day good day suicide...</td>\n",
              "    </tr>\n",
              "    <tr>\n",
              "      <th>3</th>\n",
              "      <td>i really appreciate this post the activism and...</td>\n",
              "      <td>1</td>\n",
              "      <td>-2</td>\n",
              "      <td>24</td>\n",
              "      <td>135</td>\n",
              "      <td>False</td>\n",
              "      <td>15</td>\n",
              "      <td>0</td>\n",
              "      <td>0</td>\n",
              "      <td>0</td>\n",
              "      <td>5.625000</td>\n",
              "      <td>6.136364</td>\n",
              "      <td>appreciate post activism awareness days honest...</td>\n",
              "    </tr>\n",
              "    <tr>\n",
              "      <th>5</th>\n",
              "      <td>basically anything thats aimed at raising awre...</td>\n",
              "      <td>1</td>\n",
              "      <td>-2</td>\n",
              "      <td>54</td>\n",
              "      <td>300</td>\n",
              "      <td>False</td>\n",
              "      <td>24</td>\n",
              "      <td>0</td>\n",
              "      <td>0</td>\n",
              "      <td>0</td>\n",
              "      <td>5.555556</td>\n",
              "      <td>12.375000</td>\n",
              "      <td>basically anything aimed raising awreness mone...</td>\n",
              "    </tr>\n",
              "  </tbody>\n",
              "</table>\n",
              "</div>"
            ],
            "text/plain": [
              "                                                TEXT  ...                                       WORKING_TEXT\n",
              "0  sorry if im stupid but whats activism i dont w...  ...     sorry stupid activism accidentally break rules\n",
              "1  ah thank you usually i just see it as a load o...  ...  ah thank usually see load horsecrap people wan...\n",
              "2  lol somebody in my town thought that day was a...  ...  lol somebody town thought day good day suicide...\n",
              "3  i really appreciate this post the activism and...  ...  appreciate post activism awareness days honest...\n",
              "5  basically anything thats aimed at raising awre...  ...  basically anything aimed raising awreness mone...\n",
              "\n",
              "[5 rows x 13 columns]"
            ]
          },
          "metadata": {
            "tags": []
          },
          "execution_count": 86
        }
      ]
    },
    {
      "cell_type": "code",
      "metadata": {
        "id": "vWcIcuYDMh26",
        "colab_type": "code",
        "outputId": "2b73f290-ae56-48dd-bc67-113262f66504",
        "colab": {
          "base_uri": "https://localhost:8080/",
          "height": 459
        }
      },
      "source": [
        "nondep.head()"
      ],
      "execution_count": 0,
      "outputs": [
        {
          "output_type": "execute_result",
          "data": {
            "text/html": [
              "<div>\n",
              "<style scoped>\n",
              "    .dataframe tbody tr th:only-of-type {\n",
              "        vertical-align: middle;\n",
              "    }\n",
              "\n",
              "    .dataframe tbody tr th {\n",
              "        vertical-align: top;\n",
              "    }\n",
              "\n",
              "    .dataframe thead th {\n",
              "        text-align: right;\n",
              "    }\n",
              "</style>\n",
              "<table border=\"1\" class=\"dataframe\">\n",
              "  <thead>\n",
              "    <tr style=\"text-align: right;\">\n",
              "      <th></th>\n",
              "      <th>TEXT</th>\n",
              "      <th>label</th>\n",
              "      <th>LINE_NUM</th>\n",
              "      <th>WORD_COUNT</th>\n",
              "      <th>CHAR_COUNT</th>\n",
              "      <th>TAG</th>\n",
              "      <th>STOPWORDS</th>\n",
              "      <th>HASHTAGS</th>\n",
              "      <th>UPPER</th>\n",
              "      <th>NUMERICS</th>\n",
              "      <th>AVG_WORDS_LEN</th>\n",
              "      <th>LEXICAL_DIVER</th>\n",
              "      <th>WORKING_TEXT</th>\n",
              "    </tr>\n",
              "  </thead>\n",
              "  <tbody>\n",
              "    <tr>\n",
              "      <th>0</th>\n",
              "      <td>his dad developed huntingtons and his mom left...</td>\n",
              "      <td>0</td>\n",
              "      <td>-2</td>\n",
              "      <td>49</td>\n",
              "      <td>223</td>\n",
              "      <td>False</td>\n",
              "      <td>24</td>\n",
              "      <td>0</td>\n",
              "      <td>0</td>\n",
              "      <td>0</td>\n",
              "      <td>4.551020</td>\n",
              "      <td>9.608696</td>\n",
              "      <td>dad developed huntingtons mom left family resu...</td>\n",
              "    </tr>\n",
              "    <tr>\n",
              "      <th>1</th>\n",
              "      <td>got back together with him after years apart w...</td>\n",
              "      <td>0</td>\n",
              "      <td>-2</td>\n",
              "      <td>41</td>\n",
              "      <td>184</td>\n",
              "      <td>False</td>\n",
              "      <td>21</td>\n",
              "      <td>0</td>\n",
              "      <td>0</td>\n",
              "      <td>0</td>\n",
              "      <td>4.487805</td>\n",
              "      <td>8.181818</td>\n",
              "      <td>got back together years apart wonderful years ...</td>\n",
              "    </tr>\n",
              "    <tr>\n",
              "      <th>2</th>\n",
              "      <td>she met someone like a decade ago and theyve b...</td>\n",
              "      <td>0</td>\n",
              "      <td>-2</td>\n",
              "      <td>28</td>\n",
              "      <td>137</td>\n",
              "      <td>False</td>\n",
              "      <td>16</td>\n",
              "      <td>0</td>\n",
              "      <td>0</td>\n",
              "      <td>0</td>\n",
              "      <td>4.892857</td>\n",
              "      <td>5.956522</td>\n",
              "      <td>met someone decade ago married many years good...</td>\n",
              "    </tr>\n",
              "    <tr>\n",
              "      <th>4</th>\n",
              "      <td>she was an exchange student who i was absolute...</td>\n",
              "      <td>0</td>\n",
              "      <td>-2</td>\n",
              "      <td>91</td>\n",
              "      <td>453</td>\n",
              "      <td>False</td>\n",
              "      <td>55</td>\n",
              "      <td>0</td>\n",
              "      <td>0</td>\n",
              "      <td>0</td>\n",
              "      <td>4.978022</td>\n",
              "      <td>18.875000</td>\n",
              "      <td>exchange student absolutely moon dates think f...</td>\n",
              "    </tr>\n",
              "    <tr>\n",
              "      <th>5</th>\n",
              "      <td>she died far too young i taught hockey in cana...</td>\n",
              "      <td>0</td>\n",
              "      <td>-2</td>\n",
              "      <td>190</td>\n",
              "      <td>883</td>\n",
              "      <td>False</td>\n",
              "      <td>102</td>\n",
              "      <td>0</td>\n",
              "      <td>0</td>\n",
              "      <td>0</td>\n",
              "      <td>4.647368</td>\n",
              "      <td>36.250000</td>\n",
              "      <td>died far young taught hockey canada american m...</td>\n",
              "    </tr>\n",
              "  </tbody>\n",
              "</table>\n",
              "</div>"
            ],
            "text/plain": [
              "                                                TEXT  ...                                       WORKING_TEXT\n",
              "0  his dad developed huntingtons and his mom left...  ...  dad developed huntingtons mom left family resu...\n",
              "1  got back together with him after years apart w...  ...  got back together years apart wonderful years ...\n",
              "2  she met someone like a decade ago and theyve b...  ...  met someone decade ago married many years good...\n",
              "4  she was an exchange student who i was absolute...  ...  exchange student absolutely moon dates think f...\n",
              "5  she died far too young i taught hockey in cana...  ...  died far young taught hockey canada american m...\n",
              "\n",
              "[5 rows x 13 columns]"
            ]
          },
          "metadata": {
            "tags": []
          },
          "execution_count": 87
        }
      ]
    },
    {
      "cell_type": "code",
      "metadata": {
        "id": "NVRu_BBYMkVs",
        "colab_type": "code",
        "outputId": "3759946f-4f9b-48a8-d1a4-26d39edc384b",
        "colab": {
          "base_uri": "https://localhost:8080/",
          "height": 187
        }
      },
      "source": [
        "englishfreq = pd.Series(' '.join(dep['WORKING_TEXT']).split()).value_counts()[220:-600]\n",
        "newenglish = freqremovel(dep,englishfreq)\n",
        "\n",
        "neutral_freq = pd.Series(' '.join(nondep['WORKING_TEXT']).split()).value_counts()[150:-200]\n",
        "neutral_post = freqremovel(nondep,neutral_freq)"
      ],
      "execution_count": 0,
      "outputs": [
        {
          "output_type": "stream",
          "text": [
            "/usr/local/lib/python3.6/dist-packages/ipykernel_launcher.py:32: SettingWithCopyWarning: \n",
            "A value is trying to be set on a copy of a slice from a DataFrame.\n",
            "Try using .loc[row_indexer,col_indexer] = value instead\n",
            "\n",
            "See the caveats in the documentation: https://pandas.pydata.org/pandas-docs/stable/user_guide/indexing.html#returning-a-view-versus-a-copy\n",
            "/usr/local/lib/python3.6/dist-packages/pandas/core/frame.py:3041: SettingWithCopyWarning: \n",
            "A value is trying to be set on a copy of a slice from a DataFrame\n",
            "\n",
            "See the caveats in the documentation: https://pandas.pydata.org/pandas-docs/stable/user_guide/indexing.html#returning-a-view-versus-a-copy\n",
            "  self.loc[index, col] = value\n"
          ],
          "name": "stderr"
        }
      ]
    },
    {
      "cell_type": "code",
      "metadata": {
        "id": "Rjl_TWtPM_vq",
        "colab_type": "code",
        "colab": {}
      },
      "source": [
        "from wordcloud import WordCloud\n",
        "\n",
        "def PostWordCloud(df):\n",
        "    string = ''\n",
        "    for line in df['WORKING_TEXT']:\n",
        "        string = string + str(line)\n",
        "    wordcloud = WordCloud(background_color='black',max_font_size=60, collocations=False).generate(string)\n",
        "    plt.figure(figsize=(10,10))\n",
        "    \n",
        "    plt.imshow(wordcloud, interpolation=\"bilinear\")\n",
        "    plt.axis(\"off\")\n",
        "    plt.show()\n",
        "\n",
        "PostWordCloud(neutral_post)\n",
        "PostWordCloud(newenglish)"
      ],
      "execution_count": 0,
      "outputs": []
    }
  ]
}